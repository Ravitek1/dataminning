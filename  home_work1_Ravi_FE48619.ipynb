{
 "cells": [
  {
   "cell_type": "code",
   "execution_count": 993,
   "id": "d54bb913",
   "metadata": {},
   "outputs": [],
   "source": [
    "# importing packages"
   ]
  },
  {
   "cell_type": "code",
   "execution_count": 994,
   "id": "1d5461a8",
   "metadata": {},
   "outputs": [],
   "source": [
    "import pandas as pd\n",
    "import glob\n",
    "files = glob.glob(\"/Users/ravi/python/KT4\" + \"/*.csv\")"
   ]
  },
  {
   "cell_type": "code",
   "execution_count": 995,
   "id": "24bedbc4",
   "metadata": {},
   "outputs": [],
   "source": [
    "# adding all user files into a single data frame"
   ]
  },
  {
   "cell_type": "code",
   "execution_count": 996,
   "id": "2b01f93d",
   "metadata": {},
   "outputs": [],
   "source": [
    "content=[]\n",
    "for filename in files:\n",
    "    \n",
    "    # reading content of csv file\n",
    "    # content.append(filename)\n",
    "    df = pd.read_csv(filename, index_col=None)\n",
    "    text=str(filename)\n",
    "    ntext=text.strip('Users/ravi/python/KT4/')\n",
    "    user=ntext.strip('.cs')\n",
    "    df[\"user\"]=user\n",
    "    df.to_csv(filename,index=False)\n",
    "    content.append(df)\n",
    "  \n",
    "# converting content to data frame\n",
    "data_frame = pd.concat(content)"
   ]
  },
  {
   "cell_type": "code",
   "execution_count": 997,
   "id": "e2f1e634",
   "metadata": {},
   "outputs": [],
   "source": [
    "#  filtering data"
   ]
  },
  {
   "cell_type": "code",
   "execution_count": 998,
   "id": "29036255",
   "metadata": {},
   "outputs": [],
   "source": [
    "data1=data_frame[data_frame['action_type']=='respond']"
   ]
  },
  {
   "cell_type": "code",
   "execution_count": 999,
   "id": "4fb3c390",
   "metadata": {},
   "outputs": [],
   "source": [
    "d2=data1.groupby('user').aggregate({'item_id':'count'})"
   ]
  },
  {
   "cell_type": "code",
   "execution_count": 1000,
   "id": "2c1dc020",
   "metadata": {},
   "outputs": [],
   "source": [
    "# findind number of questions answered by each user"
   ]
  },
  {
   "cell_type": "code",
   "execution_count": 1001,
   "id": "8a8d8ae8",
   "metadata": {},
   "outputs": [],
   "source": [
    "# merging with questions table to compare user answers "
   ]
  },
  {
   "cell_type": "code",
   "execution_count": 1002,
   "id": "19ed3037",
   "metadata": {},
   "outputs": [],
   "source": [
    "questions=pd.read_csv(\"/Users/ravi/python/contents/questions.csv\")"
   ]
  },
  {
   "cell_type": "code",
   "execution_count": 1003,
   "id": "4944c8f0",
   "metadata": {},
   "outputs": [],
   "source": [
    "data=pd.merge(data1,questions, how='left', left_on=['item_id'], right_on=['question_id'])"
   ]
  },
  {
   "cell_type": "code",
   "execution_count": 1004,
   "id": "31425ca9",
   "metadata": {},
   "outputs": [],
   "source": [
    "final_data = data.drop(['bundle_id','explanation_id','part','tags','deployed_at'],axis = 1)"
   ]
  },
  {
   "cell_type": "code",
   "execution_count": 1005,
   "id": "3914592e",
   "metadata": {},
   "outputs": [],
   "source": [
    "# logic to find number of questions   answered correctly by user\n",
    "#marking correct answer as 1 and 0 "
   ]
  },
  {
   "cell_type": "code",
   "execution_count": 1006,
   "id": "be3fb50e",
   "metadata": {},
   "outputs": [],
   "source": [
    "marks = []\n",
    "for i in range(len(final_data)):\n",
    "    if final_data['user_answer'].iloc[i] == final_data['correct_answer'].iloc[i]:\n",
    "        marks.append(1)\n",
    "    else:\n",
    "        marks.append(0)"
   ]
  },
  {
   "cell_type": "code",
   "execution_count": 1007,
   "id": "2867ce91",
   "metadata": {},
   "outputs": [],
   "source": [
    "# append marks to the data frame"
   ]
  },
  {
   "cell_type": "code",
   "execution_count": 1008,
   "id": "53246776",
   "metadata": {},
   "outputs": [],
   "source": [
    "final_data['Ans_status']=marks"
   ]
  },
  {
   "cell_type": "code",
   "execution_count": 1009,
   "id": "a734e758",
   "metadata": {},
   "outputs": [
    {
     "data": {
      "text/html": [
       "<div>\n",
       "<style scoped>\n",
       "    .dataframe tbody tr th:only-of-type {\n",
       "        vertical-align: middle;\n",
       "    }\n",
       "\n",
       "    .dataframe tbody tr th {\n",
       "        vertical-align: top;\n",
       "    }\n",
       "\n",
       "    .dataframe thead th {\n",
       "        text-align: right;\n",
       "    }\n",
       "</style>\n",
       "<table border=\"1\" class=\"dataframe\">\n",
       "  <thead>\n",
       "    <tr style=\"text-align: right;\">\n",
       "      <th></th>\n",
       "      <th>timestamp</th>\n",
       "      <th>action_type</th>\n",
       "      <th>item_id</th>\n",
       "      <th>cursor_time</th>\n",
       "      <th>source</th>\n",
       "      <th>user_answer</th>\n",
       "      <th>platform</th>\n",
       "      <th>user</th>\n",
       "      <th>question_id</th>\n",
       "      <th>correct_answer</th>\n",
       "      <th>Ans_status</th>\n",
       "    </tr>\n",
       "  </thead>\n",
       "  <tbody>\n",
       "    <tr>\n",
       "      <th>0</th>\n",
       "      <td>1561967886867</td>\n",
       "      <td>respond</td>\n",
       "      <td>q6418</td>\n",
       "      <td>NaN</td>\n",
       "      <td>diagnosis</td>\n",
       "      <td>c</td>\n",
       "      <td>mobile</td>\n",
       "      <td>u835</td>\n",
       "      <td>q6418</td>\n",
       "      <td>c</td>\n",
       "      <td>1</td>\n",
       "    </tr>\n",
       "    <tr>\n",
       "      <th>1</th>\n",
       "      <td>1561967913644</td>\n",
       "      <td>respond</td>\n",
       "      <td>q527</td>\n",
       "      <td>NaN</td>\n",
       "      <td>diagnosis</td>\n",
       "      <td>b</td>\n",
       "      <td>mobile</td>\n",
       "      <td>u835</td>\n",
       "      <td>q527</td>\n",
       "      <td>b</td>\n",
       "      <td>1</td>\n",
       "    </tr>\n",
       "    <tr>\n",
       "      <th>2</th>\n",
       "      <td>1561967935998</td>\n",
       "      <td>respond</td>\n",
       "      <td>q6269</td>\n",
       "      <td>NaN</td>\n",
       "      <td>diagnosis</td>\n",
       "      <td>b</td>\n",
       "      <td>mobile</td>\n",
       "      <td>u835</td>\n",
       "      <td>q6269</td>\n",
       "      <td>a</td>\n",
       "      <td>0</td>\n",
       "    </tr>\n",
       "    <tr>\n",
       "      <th>3</th>\n",
       "      <td>1561967990364</td>\n",
       "      <td>respond</td>\n",
       "      <td>q4918</td>\n",
       "      <td>NaN</td>\n",
       "      <td>diagnosis</td>\n",
       "      <td>c</td>\n",
       "      <td>mobile</td>\n",
       "      <td>u835</td>\n",
       "      <td>q4918</td>\n",
       "      <td>c</td>\n",
       "      <td>1</td>\n",
       "    </tr>\n",
       "    <tr>\n",
       "      <th>4</th>\n",
       "      <td>1561968034375</td>\n",
       "      <td>respond</td>\n",
       "      <td>q8701</td>\n",
       "      <td>NaN</td>\n",
       "      <td>diagnosis</td>\n",
       "      <td>a</td>\n",
       "      <td>mobile</td>\n",
       "      <td>u835</td>\n",
       "      <td>q8701</td>\n",
       "      <td>a</td>\n",
       "      <td>1</td>\n",
       "    </tr>\n",
       "    <tr>\n",
       "      <th>...</th>\n",
       "      <td>...</td>\n",
       "      <td>...</td>\n",
       "      <td>...</td>\n",
       "      <td>...</td>\n",
       "      <td>...</td>\n",
       "      <td>...</td>\n",
       "      <td>...</td>\n",
       "      <td>...</td>\n",
       "      <td>...</td>\n",
       "      <td>...</td>\n",
       "      <td>...</td>\n",
       "    </tr>\n",
       "    <tr>\n",
       "      <th>854116</th>\n",
       "      <td>1572300986310</td>\n",
       "      <td>respond</td>\n",
       "      <td>q17757</td>\n",
       "      <td>NaN</td>\n",
       "      <td>sprint</td>\n",
       "      <td>b</td>\n",
       "      <td>web</td>\n",
       "      <td>u192</td>\n",
       "      <td>q17757</td>\n",
       "      <td>b</td>\n",
       "      <td>1</td>\n",
       "    </tr>\n",
       "    <tr>\n",
       "      <th>854117</th>\n",
       "      <td>1572301033406</td>\n",
       "      <td>respond</td>\n",
       "      <td>q18003</td>\n",
       "      <td>NaN</td>\n",
       "      <td>sprint</td>\n",
       "      <td>b</td>\n",
       "      <td>web</td>\n",
       "      <td>u192</td>\n",
       "      <td>q18003</td>\n",
       "      <td>b</td>\n",
       "      <td>1</td>\n",
       "    </tr>\n",
       "    <tr>\n",
       "      <th>854118</th>\n",
       "      <td>1572301291271</td>\n",
       "      <td>respond</td>\n",
       "      <td>q18125</td>\n",
       "      <td>NaN</td>\n",
       "      <td>sprint</td>\n",
       "      <td>a</td>\n",
       "      <td>web</td>\n",
       "      <td>u192</td>\n",
       "      <td>q18125</td>\n",
       "      <td>a</td>\n",
       "      <td>1</td>\n",
       "    </tr>\n",
       "    <tr>\n",
       "      <th>854119</th>\n",
       "      <td>1572301326677</td>\n",
       "      <td>respond</td>\n",
       "      <td>q17839</td>\n",
       "      <td>NaN</td>\n",
       "      <td>sprint</td>\n",
       "      <td>c</td>\n",
       "      <td>web</td>\n",
       "      <td>u192</td>\n",
       "      <td>q17839</td>\n",
       "      <td>c</td>\n",
       "      <td>1</td>\n",
       "    </tr>\n",
       "    <tr>\n",
       "      <th>854120</th>\n",
       "      <td>1572301345806</td>\n",
       "      <td>respond</td>\n",
       "      <td>q18109</td>\n",
       "      <td>NaN</td>\n",
       "      <td>sprint</td>\n",
       "      <td>a</td>\n",
       "      <td>web</td>\n",
       "      <td>u192</td>\n",
       "      <td>q18109</td>\n",
       "      <td>a</td>\n",
       "      <td>1</td>\n",
       "    </tr>\n",
       "  </tbody>\n",
       "</table>\n",
       "<p>854121 rows × 11 columns</p>\n",
       "</div>"
      ],
      "text/plain": [
       "            timestamp action_type item_id  cursor_time     source user_answer  \\\n",
       "0       1561967886867     respond   q6418          NaN  diagnosis           c   \n",
       "1       1561967913644     respond    q527          NaN  diagnosis           b   \n",
       "2       1561967935998     respond   q6269          NaN  diagnosis           b   \n",
       "3       1561967990364     respond   q4918          NaN  diagnosis           c   \n",
       "4       1561968034375     respond   q8701          NaN  diagnosis           a   \n",
       "...               ...         ...     ...          ...        ...         ...   \n",
       "854116  1572300986310     respond  q17757          NaN     sprint           b   \n",
       "854117  1572301033406     respond  q18003          NaN     sprint           b   \n",
       "854118  1572301291271     respond  q18125          NaN     sprint           a   \n",
       "854119  1572301326677     respond  q17839          NaN     sprint           c   \n",
       "854120  1572301345806     respond  q18109          NaN     sprint           a   \n",
       "\n",
       "       platform  user question_id correct_answer  Ans_status  \n",
       "0        mobile  u835       q6418              c           1  \n",
       "1        mobile  u835        q527              b           1  \n",
       "2        mobile  u835       q6269              a           0  \n",
       "3        mobile  u835       q4918              c           1  \n",
       "4        mobile  u835       q8701              a           1  \n",
       "...         ...   ...         ...            ...         ...  \n",
       "854116      web  u192      q17757              b           1  \n",
       "854117      web  u192      q18003              b           1  \n",
       "854118      web  u192      q18125              a           1  \n",
       "854119      web  u192      q17839              c           1  \n",
       "854120      web  u192      q18109              a           1  \n",
       "\n",
       "[854121 rows x 11 columns]"
      ]
     },
     "execution_count": 1009,
     "metadata": {},
     "output_type": "execute_result"
    }
   ],
   "source": [
    "# suming user answers to find total number of correct answers by each user\n",
    "final_data"
   ]
  },
  {
   "cell_type": "code",
   "execution_count": 1010,
   "id": "13f51863",
   "metadata": {},
   "outputs": [],
   "source": [
    "dx= final_data.groupby('user').sum()"
   ]
  },
  {
   "cell_type": "code",
   "execution_count": 1011,
   "id": "56e767c4",
   "metadata": {},
   "outputs": [],
   "source": [
    "result = pd.concat([d2, dx], axis=1, join=\"inner\")"
   ]
  },
  {
   "cell_type": "code",
   "execution_count": 1012,
   "id": "d2943d8c",
   "metadata": {},
   "outputs": [],
   "source": [
    "# code for data processing "
   ]
  },
  {
   "cell_type": "code",
   "execution_count": 1013,
   "id": "4c553b81",
   "metadata": {},
   "outputs": [],
   "source": [
    "result=result.drop(['timestamp','cursor_time'],axis = 1)"
   ]
  },
  {
   "cell_type": "code",
   "execution_count": 1014,
   "id": "b0a33e67",
   "metadata": {},
   "outputs": [],
   "source": [
    "result = result.rename({'Ans_status': 'no_correct_ans', 'item_id': 'total_questions'}, axis=1)"
   ]
  },
  {
   "cell_type": "code",
   "execution_count": 1015,
   "id": "09f639c0",
   "metadata": {},
   "outputs": [],
   "source": [
    "cols = result.columns.tolist()"
   ]
  },
  {
   "cell_type": "code",
   "execution_count": 1016,
   "id": "691b26d5",
   "metadata": {},
   "outputs": [],
   "source": [
    "cols = cols[-1:] + cols[:-1]"
   ]
  },
  {
   "cell_type": "code",
   "execution_count": 1017,
   "id": "07abc712",
   "metadata": {},
   "outputs": [],
   "source": [
    "result=result[cols]"
   ]
  },
  {
   "cell_type": "code",
   "execution_count": 1018,
   "id": "02eb6669",
   "metadata": {},
   "outputs": [],
   "source": [
    "# printing user marks metrics "
   ]
  },
  {
   "cell_type": "code",
   "execution_count": 1019,
   "id": "da2a0217",
   "metadata": {},
   "outputs": [
    {
     "data": {
      "text/html": [
       "<div>\n",
       "<style scoped>\n",
       "    .dataframe tbody tr th:only-of-type {\n",
       "        vertical-align: middle;\n",
       "    }\n",
       "\n",
       "    .dataframe tbody tr th {\n",
       "        vertical-align: top;\n",
       "    }\n",
       "\n",
       "    .dataframe thead th {\n",
       "        text-align: right;\n",
       "    }\n",
       "</style>\n",
       "<table border=\"1\" class=\"dataframe\">\n",
       "  <thead>\n",
       "    <tr style=\"text-align: right;\">\n",
       "      <th></th>\n",
       "      <th>no_correct_ans</th>\n",
       "      <th>total_questions</th>\n",
       "    </tr>\n",
       "    <tr>\n",
       "      <th>user</th>\n",
       "      <th></th>\n",
       "      <th></th>\n",
       "    </tr>\n",
       "  </thead>\n",
       "  <tbody>\n",
       "    <tr>\n",
       "      <th>u1</th>\n",
       "      <td>369</td>\n",
       "      <td>584</td>\n",
       "    </tr>\n",
       "    <tr>\n",
       "      <th>u10</th>\n",
       "      <td>1</td>\n",
       "      <td>1</td>\n",
       "    </tr>\n",
       "    <tr>\n",
       "      <th>u100</th>\n",
       "      <td>12</td>\n",
       "      <td>25</td>\n",
       "    </tr>\n",
       "    <tr>\n",
       "      <th>u1000</th>\n",
       "      <td>743</td>\n",
       "      <td>1322</td>\n",
       "    </tr>\n",
       "    <tr>\n",
       "      <th>u1001</th>\n",
       "      <td>2</td>\n",
       "      <td>13</td>\n",
       "    </tr>\n",
       "  </tbody>\n",
       "</table>\n",
       "</div>"
      ],
      "text/plain": [
       "       no_correct_ans  total_questions\n",
       "user                                  \n",
       "u1                369              584\n",
       "u10                 1                1\n",
       "u100               12               25\n",
       "u1000             743             1322\n",
       "u1001               2               13"
      ]
     },
     "execution_count": 1019,
     "metadata": {},
     "output_type": "execute_result"
    }
   ],
   "source": [
    "result.head()"
   ]
  },
  {
   "cell_type": "code",
   "execution_count": 1020,
   "id": "ec859719",
   "metadata": {},
   "outputs": [],
   "source": [
    "# merging lectures file to eveluate activity metrics "
   ]
  },
  {
   "cell_type": "code",
   "execution_count": 1021,
   "id": "d160401c",
   "metadata": {},
   "outputs": [],
   "source": [
    "lectures=pd.read_csv(\"/Users/ravi/python/contents/lectures.csv\")"
   ]
  },
  {
   "cell_type": "code",
   "execution_count": 1022,
   "id": "851beb72",
   "metadata": {},
   "outputs": [],
   "source": [
    "lseries=data_frame[\"item_id\"].str.startswith(\"l\")"
   ]
  },
  {
   "cell_type": "code",
   "execution_count": 1023,
   "id": "15868f87",
   "metadata": {},
   "outputs": [],
   "source": [
    "lec=data_frame[lseries]"
   ]
  },
  {
   "cell_type": "code",
   "execution_count": 1024,
   "id": "59f0bc02",
   "metadata": {},
   "outputs": [],
   "source": [
    "lecture_data=pd.merge(lec,lectures, how='left', left_on=['item_id'], right_on=['lecture_id'])"
   ]
  },
  {
   "cell_type": "code",
   "execution_count": 1025,
   "id": "1ef17eb9",
   "metadata": {},
   "outputs": [],
   "source": [
    "lecture_final = lecture_data.drop(['cursor_time','timestamp','source','user_answer','platform','part','tags','deployed_at'],axis = 1)"
   ]
  },
  {
   "cell_type": "code",
   "execution_count": 1026,
   "id": "73b5afeb",
   "metadata": {},
   "outputs": [],
   "source": [
    "lecture_final =lecture_final[lecture_final['action_type']=='play_video']"
   ]
  },
  {
   "cell_type": "code",
   "execution_count": 1027,
   "id": "8af8c252",
   "metadata": {},
   "outputs": [],
   "source": [
    "result1b=lecture_final.groupby('user').aggregate({'lecture_id':'nunique'})"
   ]
  },
  {
   "cell_type": "code",
   "execution_count": 1028,
   "id": "369f66d3",
   "metadata": {},
   "outputs": [],
   "source": [
    "result1b = result1b.rename({'lecture_id': 'no_lectures_watched'}, axis=1)"
   ]
  },
  {
   "cell_type": "code",
   "execution_count": 1029,
   "id": "15d28273",
   "metadata": {},
   "outputs": [
    {
     "data": {
      "text/html": [
       "<div>\n",
       "<style scoped>\n",
       "    .dataframe tbody tr th:only-of-type {\n",
       "        vertical-align: middle;\n",
       "    }\n",
       "\n",
       "    .dataframe tbody tr th {\n",
       "        vertical-align: top;\n",
       "    }\n",
       "\n",
       "    .dataframe thead th {\n",
       "        text-align: right;\n",
       "    }\n",
       "</style>\n",
       "<table border=\"1\" class=\"dataframe\">\n",
       "  <thead>\n",
       "    <tr style=\"text-align: right;\">\n",
       "      <th></th>\n",
       "      <th>no_lectures_watched</th>\n",
       "    </tr>\n",
       "    <tr>\n",
       "      <th>user</th>\n",
       "      <th></th>\n",
       "    </tr>\n",
       "  </thead>\n",
       "  <tbody>\n",
       "    <tr>\n",
       "      <th>u1</th>\n",
       "      <td>24</td>\n",
       "    </tr>\n",
       "    <tr>\n",
       "      <th>u100</th>\n",
       "      <td>2</td>\n",
       "    </tr>\n",
       "    <tr>\n",
       "      <th>u1000</th>\n",
       "      <td>94</td>\n",
       "    </tr>\n",
       "    <tr>\n",
       "      <th>u1002</th>\n",
       "      <td>6</td>\n",
       "    </tr>\n",
       "    <tr>\n",
       "      <th>u1003</th>\n",
       "      <td>7</td>\n",
       "    </tr>\n",
       "  </tbody>\n",
       "</table>\n",
       "</div>"
      ],
      "text/plain": [
       "       no_lectures_watched\n",
       "user                      \n",
       "u1                      24\n",
       "u100                     2\n",
       "u1000                   94\n",
       "u1002                    6\n",
       "u1003                    7"
      ]
     },
     "execution_count": 1029,
     "metadata": {},
     "output_type": "execute_result"
    }
   ],
   "source": [
    "result1b.head()"
   ]
  },
  {
   "cell_type": "code",
   "execution_count": 1030,
   "id": "cbf7705c",
   "metadata": {},
   "outputs": [],
   "source": [
    "# metrics for explinations ready by users"
   ]
  },
  {
   "cell_type": "code",
   "execution_count": 1031,
   "id": "ab72bbdd",
   "metadata": {},
   "outputs": [],
   "source": [
    "eseries=data_frame[\"item_id\"].str.startswith(\"e\")"
   ]
  },
  {
   "cell_type": "code",
   "execution_count": 1032,
   "id": "fcc3aa32",
   "metadata": {},
   "outputs": [],
   "source": [
    "exp=data_frame[eseries]"
   ]
  },
  {
   "cell_type": "code",
   "execution_count": 1033,
   "id": "102f454b",
   "metadata": {},
   "outputs": [],
   "source": [
    "exp_data=pd.merge(exp,questions, how='left', left_on=['item_id'], right_on=['explanation_id'])"
   ]
  },
  {
   "cell_type": "code",
   "execution_count": 1034,
   "id": "d67d8d09",
   "metadata": {},
   "outputs": [],
   "source": [
    "result1c= exp_data.groupby('user').aggregate({'explanation_id':'nunique'})"
   ]
  },
  {
   "cell_type": "code",
   "execution_count": 1035,
   "id": "c56d044e",
   "metadata": {},
   "outputs": [],
   "source": [
    "result1c = result1c.rename({'explanation_id': 'no_explinations_read'}, axis=1)"
   ]
  },
  {
   "cell_type": "code",
   "execution_count": 1036,
   "id": "147f7d26",
   "metadata": {},
   "outputs": [
    {
     "data": {
      "text/html": [
       "<div>\n",
       "<style scoped>\n",
       "    .dataframe tbody tr th:only-of-type {\n",
       "        vertical-align: middle;\n",
       "    }\n",
       "\n",
       "    .dataframe tbody tr th {\n",
       "        vertical-align: top;\n",
       "    }\n",
       "\n",
       "    .dataframe thead th {\n",
       "        text-align: right;\n",
       "    }\n",
       "</style>\n",
       "<table border=\"1\" class=\"dataframe\">\n",
       "  <thead>\n",
       "    <tr style=\"text-align: right;\">\n",
       "      <th></th>\n",
       "      <th>no_explinations_read</th>\n",
       "    </tr>\n",
       "    <tr>\n",
       "      <th>user</th>\n",
       "      <th></th>\n",
       "    </tr>\n",
       "  </thead>\n",
       "  <tbody>\n",
       "    <tr>\n",
       "      <th>u1</th>\n",
       "      <td>482</td>\n",
       "    </tr>\n",
       "    <tr>\n",
       "      <th>u10</th>\n",
       "      <td>1</td>\n",
       "    </tr>\n",
       "    <tr>\n",
       "      <th>u100</th>\n",
       "      <td>14</td>\n",
       "    </tr>\n",
       "    <tr>\n",
       "      <th>u1000</th>\n",
       "      <td>832</td>\n",
       "    </tr>\n",
       "    <tr>\n",
       "      <th>u1002</th>\n",
       "      <td>60</td>\n",
       "    </tr>\n",
       "  </tbody>\n",
       "</table>\n",
       "</div>"
      ],
      "text/plain": [
       "       no_explinations_read\n",
       "user                       \n",
       "u1                      482\n",
       "u10                       1\n",
       "u100                     14\n",
       "u1000                   832\n",
       "u1002                    60"
      ]
     },
     "execution_count": 1036,
     "metadata": {},
     "output_type": "execute_result"
    }
   ],
   "source": [
    "result1c.head()"
   ]
  },
  {
   "cell_type": "code",
   "execution_count": 1037,
   "id": "5cd4dff8",
   "metadata": {},
   "outputs": [],
   "source": [
    "# metrics for audios  listened  by users"
   ]
  },
  {
   "cell_type": "code",
   "execution_count": 1038,
   "id": "01350c32",
   "metadata": {},
   "outputs": [],
   "source": [
    "bseries=data_frame[\"item_id\"].str.startswith(\"b\")"
   ]
  },
  {
   "cell_type": "code",
   "execution_count": 1039,
   "id": "a6206747",
   "metadata": {},
   "outputs": [],
   "source": [
    "audio=data_frame[bseries]"
   ]
  },
  {
   "cell_type": "code",
   "execution_count": 1040,
   "id": "e0ce1c2d",
   "metadata": {},
   "outputs": [],
   "source": [
    "audio =audio[audio['action_type']=='submit']"
   ]
  },
  {
   "cell_type": "code",
   "execution_count": 1041,
   "id": "fe1b2546",
   "metadata": {},
   "outputs": [],
   "source": [
    "audio_data=pd.merge(audio,questions, how='left', left_on=['item_id'], right_on=['bundle_id'])"
   ]
  },
  {
   "cell_type": "code",
   "execution_count": 1042,
   "id": "7c05f025",
   "metadata": {},
   "outputs": [],
   "source": [
    "result1d= audio_data.groupby('user').aggregate({'bundle_id':'nunique'})"
   ]
  },
  {
   "cell_type": "code",
   "execution_count": 1043,
   "id": "c16564c1",
   "metadata": {},
   "outputs": [],
   "source": [
    "result1d = result1d.rename({'bundle_id': 'no_audio_listened'}, axis=1)"
   ]
  },
  {
   "cell_type": "code",
   "execution_count": 1044,
   "id": "978d6fb0",
   "metadata": {},
   "outputs": [
    {
     "data": {
      "text/html": [
       "<div>\n",
       "<style scoped>\n",
       "    .dataframe tbody tr th:only-of-type {\n",
       "        vertical-align: middle;\n",
       "    }\n",
       "\n",
       "    .dataframe tbody tr th {\n",
       "        vertical-align: top;\n",
       "    }\n",
       "\n",
       "    .dataframe thead th {\n",
       "        text-align: right;\n",
       "    }\n",
       "</style>\n",
       "<table border=\"1\" class=\"dataframe\">\n",
       "  <thead>\n",
       "    <tr style=\"text-align: right;\">\n",
       "      <th></th>\n",
       "      <th>no_audio_listened</th>\n",
       "    </tr>\n",
       "    <tr>\n",
       "      <th>user</th>\n",
       "      <th></th>\n",
       "    </tr>\n",
       "  </thead>\n",
       "  <tbody>\n",
       "    <tr>\n",
       "      <th>u1</th>\n",
       "      <td>477</td>\n",
       "    </tr>\n",
       "    <tr>\n",
       "      <th>u10</th>\n",
       "      <td>1</td>\n",
       "    </tr>\n",
       "    <tr>\n",
       "      <th>u100</th>\n",
       "      <td>23</td>\n",
       "    </tr>\n",
       "    <tr>\n",
       "      <th>u1000</th>\n",
       "      <td>837</td>\n",
       "    </tr>\n",
       "    <tr>\n",
       "      <th>u1001</th>\n",
       "      <td>7</td>\n",
       "    </tr>\n",
       "    <tr>\n",
       "      <th>...</th>\n",
       "      <td>...</td>\n",
       "    </tr>\n",
       "    <tr>\n",
       "      <th>u188</th>\n",
       "      <td>7</td>\n",
       "    </tr>\n",
       "    <tr>\n",
       "      <th>u189</th>\n",
       "      <td>9</td>\n",
       "    </tr>\n",
       "    <tr>\n",
       "      <th>u19</th>\n",
       "      <td>78</td>\n",
       "    </tr>\n",
       "    <tr>\n",
       "      <th>u190</th>\n",
       "      <td>9</td>\n",
       "    </tr>\n",
       "    <tr>\n",
       "      <th>u191</th>\n",
       "      <td>1012</td>\n",
       "    </tr>\n",
       "  </tbody>\n",
       "</table>\n",
       "<p>100 rows × 1 columns</p>\n",
       "</div>"
      ],
      "text/plain": [
       "       no_audio_listened\n",
       "user                    \n",
       "u1                   477\n",
       "u10                    1\n",
       "u100                  23\n",
       "u1000                837\n",
       "u1001                  7\n",
       "...                  ...\n",
       "u188                   7\n",
       "u189                   9\n",
       "u19                   78\n",
       "u190                   9\n",
       "u191                1012\n",
       "\n",
       "[100 rows x 1 columns]"
      ]
     },
     "execution_count": 1044,
     "metadata": {},
     "output_type": "execute_result"
    }
   ],
   "source": [
    "result1d.head(100)"
   ]
  },
  {
   "cell_type": "code",
   "execution_count": 1045,
   "id": "96c2ed56",
   "metadata": {},
   "outputs": [],
   "source": [
    "# user profile table"
   ]
  },
  {
   "cell_type": "code",
   "execution_count": 1046,
   "id": "e1d689cd",
   "metadata": {},
   "outputs": [],
   "source": [
    "from functools import reduce\n",
    "\n",
    "# compile the list of dataframes you want to merge\n",
    "fx = [result,result1b, result1c, result1d]\n",
    "df_merged = reduce(lambda  left,right: pd.merge(left,right,on=['user'],\n",
    "                                            how='outer'), fx)"
   ]
  },
  {
   "cell_type": "code",
   "execution_count": 1047,
   "id": "8b6122ec",
   "metadata": {},
   "outputs": [
    {
     "data": {
      "text/html": [
       "<div>\n",
       "<style scoped>\n",
       "    .dataframe tbody tr th:only-of-type {\n",
       "        vertical-align: middle;\n",
       "    }\n",
       "\n",
       "    .dataframe tbody tr th {\n",
       "        vertical-align: top;\n",
       "    }\n",
       "\n",
       "    .dataframe thead th {\n",
       "        text-align: right;\n",
       "    }\n",
       "</style>\n",
       "<table border=\"1\" class=\"dataframe\">\n",
       "  <thead>\n",
       "    <tr style=\"text-align: right;\">\n",
       "      <th></th>\n",
       "      <th>no_correct_ans</th>\n",
       "      <th>total_questions</th>\n",
       "      <th>no_lectures_watched</th>\n",
       "      <th>no_explinations_read</th>\n",
       "      <th>no_audio_listened</th>\n",
       "    </tr>\n",
       "    <tr>\n",
       "      <th>user</th>\n",
       "      <th></th>\n",
       "      <th></th>\n",
       "      <th></th>\n",
       "      <th></th>\n",
       "      <th></th>\n",
       "    </tr>\n",
       "  </thead>\n",
       "  <tbody>\n",
       "    <tr>\n",
       "      <th>u1</th>\n",
       "      <td>369</td>\n",
       "      <td>584</td>\n",
       "      <td>24.0</td>\n",
       "      <td>482.0</td>\n",
       "      <td>477</td>\n",
       "    </tr>\n",
       "    <tr>\n",
       "      <th>u10</th>\n",
       "      <td>1</td>\n",
       "      <td>1</td>\n",
       "      <td>NaN</td>\n",
       "      <td>1.0</td>\n",
       "      <td>1</td>\n",
       "    </tr>\n",
       "    <tr>\n",
       "      <th>u100</th>\n",
       "      <td>12</td>\n",
       "      <td>25</td>\n",
       "      <td>2.0</td>\n",
       "      <td>14.0</td>\n",
       "      <td>23</td>\n",
       "    </tr>\n",
       "    <tr>\n",
       "      <th>u1000</th>\n",
       "      <td>743</td>\n",
       "      <td>1322</td>\n",
       "      <td>94.0</td>\n",
       "      <td>832.0</td>\n",
       "      <td>837</td>\n",
       "    </tr>\n",
       "    <tr>\n",
       "      <th>u1001</th>\n",
       "      <td>2</td>\n",
       "      <td>13</td>\n",
       "      <td>NaN</td>\n",
       "      <td>NaN</td>\n",
       "      <td>7</td>\n",
       "    </tr>\n",
       "    <tr>\n",
       "      <th>...</th>\n",
       "      <td>...</td>\n",
       "      <td>...</td>\n",
       "      <td>...</td>\n",
       "      <td>...</td>\n",
       "      <td>...</td>\n",
       "    </tr>\n",
       "    <tr>\n",
       "      <th>u188</th>\n",
       "      <td>1</td>\n",
       "      <td>7</td>\n",
       "      <td>1.0</td>\n",
       "      <td>NaN</td>\n",
       "      <td>7</td>\n",
       "    </tr>\n",
       "    <tr>\n",
       "      <th>u189</th>\n",
       "      <td>4</td>\n",
       "      <td>10</td>\n",
       "      <td>NaN</td>\n",
       "      <td>2.0</td>\n",
       "      <td>9</td>\n",
       "    </tr>\n",
       "    <tr>\n",
       "      <th>u19</th>\n",
       "      <td>14</td>\n",
       "      <td>114</td>\n",
       "      <td>NaN</td>\n",
       "      <td>142.0</td>\n",
       "      <td>78</td>\n",
       "    </tr>\n",
       "    <tr>\n",
       "      <th>u190</th>\n",
       "      <td>5</td>\n",
       "      <td>11</td>\n",
       "      <td>NaN</td>\n",
       "      <td>1.0</td>\n",
       "      <td>9</td>\n",
       "    </tr>\n",
       "    <tr>\n",
       "      <th>u191</th>\n",
       "      <td>693</td>\n",
       "      <td>1402</td>\n",
       "      <td>32.0</td>\n",
       "      <td>1014.0</td>\n",
       "      <td>1012</td>\n",
       "    </tr>\n",
       "  </tbody>\n",
       "</table>\n",
       "<p>100 rows × 5 columns</p>\n",
       "</div>"
      ],
      "text/plain": [
       "       no_correct_ans  total_questions  no_lectures_watched  \\\n",
       "user                                                          \n",
       "u1                369              584                 24.0   \n",
       "u10                 1                1                  NaN   \n",
       "u100               12               25                  2.0   \n",
       "u1000             743             1322                 94.0   \n",
       "u1001               2               13                  NaN   \n",
       "...               ...              ...                  ...   \n",
       "u188                1                7                  1.0   \n",
       "u189                4               10                  NaN   \n",
       "u19                14              114                  NaN   \n",
       "u190                5               11                  NaN   \n",
       "u191              693             1402                 32.0   \n",
       "\n",
       "       no_explinations_read  no_audio_listened  \n",
       "user                                            \n",
       "u1                    482.0                477  \n",
       "u10                     1.0                  1  \n",
       "u100                   14.0                 23  \n",
       "u1000                 832.0                837  \n",
       "u1001                   NaN                  7  \n",
       "...                     ...                ...  \n",
       "u188                    NaN                  7  \n",
       "u189                    2.0                  9  \n",
       "u19                   142.0                 78  \n",
       "u190                    1.0                  9  \n",
       "u191                 1014.0               1012  \n",
       "\n",
       "[100 rows x 5 columns]"
      ]
     },
     "execution_count": 1047,
     "metadata": {},
     "output_type": "execute_result"
    }
   ],
   "source": [
    "df_merged.head(100)\n"
   ]
  },
  {
   "cell_type": "code",
   "execution_count": 1048,
   "id": "9f54a726",
   "metadata": {},
   "outputs": [],
   "source": [
    "df_merged['marks_percentage']=round(df_merged['no_correct_ans']*100/df_merged['total_questions'],2)"
   ]
  },
  {
   "cell_type": "code",
   "execution_count": null,
   "id": "11be7420",
   "metadata": {},
   "outputs": [],
   "source": []
  },
  {
   "cell_type": "code",
   "execution_count": 1049,
   "id": "af1e57f2",
   "metadata": {},
   "outputs": [],
   "source": [
    "#  additional metrics # finding source metrics for each user"
   ]
  },
  {
   "cell_type": "code",
   "execution_count": 1050,
   "id": "f6f55a77",
   "metadata": {},
   "outputs": [],
   "source": [
    "metrics = pd.DataFrame(pd.DataFrame(final_data.groupby(['user','source']).count())['timestamp'])"
   ]
  },
  {
   "cell_type": "code",
   "execution_count": 1051,
   "id": "b64fb724",
   "metadata": {},
   "outputs": [],
   "source": [
    "metrics['Sources Count'] = metrics['timestamp']"
   ]
  },
  {
   "cell_type": "code",
   "execution_count": 1052,
   "id": "54be5403",
   "metadata": {},
   "outputs": [],
   "source": [
    "metrics.drop('timestamp', axis = 1,inplace = True)"
   ]
  },
  {
   "cell_type": "code",
   "execution_count": 1053,
   "id": "5326ac46",
   "metadata": {},
   "outputs": [],
   "source": [
    "metrics.to_csv(\"ad1metrics.csv\")"
   ]
  },
  {
   "cell_type": "code",
   "execution_count": 1054,
   "id": "92b18424",
   "metadata": {},
   "outputs": [
    {
     "data": {
      "text/html": [
       "<div>\n",
       "<style scoped>\n",
       "    .dataframe tbody tr th:only-of-type {\n",
       "        vertical-align: middle;\n",
       "    }\n",
       "\n",
       "    .dataframe tbody tr th {\n",
       "        vertical-align: top;\n",
       "    }\n",
       "\n",
       "    .dataframe thead th {\n",
       "        text-align: right;\n",
       "    }\n",
       "</style>\n",
       "<table border=\"1\" class=\"dataframe\">\n",
       "  <thead>\n",
       "    <tr style=\"text-align: right;\">\n",
       "      <th></th>\n",
       "      <th></th>\n",
       "      <th>Sources Count</th>\n",
       "    </tr>\n",
       "    <tr>\n",
       "      <th>user</th>\n",
       "      <th>source</th>\n",
       "      <th></th>\n",
       "    </tr>\n",
       "  </thead>\n",
       "  <tbody>\n",
       "    <tr>\n",
       "      <th rowspan=\"5\" valign=\"top\">u1</th>\n",
       "      <th>adaptive_offer</th>\n",
       "      <td>15</td>\n",
       "    </tr>\n",
       "    <tr>\n",
       "      <th>diagnosis</th>\n",
       "      <td>7</td>\n",
       "    </tr>\n",
       "    <tr>\n",
       "      <th>review_quiz</th>\n",
       "      <td>12</td>\n",
       "    </tr>\n",
       "    <tr>\n",
       "      <th>sprint</th>\n",
       "      <td>526</td>\n",
       "    </tr>\n",
       "    <tr>\n",
       "      <th>tutor</th>\n",
       "      <td>24</td>\n",
       "    </tr>\n",
       "    <tr>\n",
       "      <th>...</th>\n",
       "      <th>...</th>\n",
       "      <td>...</td>\n",
       "    </tr>\n",
       "    <tr>\n",
       "      <th rowspan=\"2\" valign=\"top\">u12</th>\n",
       "      <th>diagnosis</th>\n",
       "      <td>13</td>\n",
       "    </tr>\n",
       "    <tr>\n",
       "      <th>sprint</th>\n",
       "      <td>38</td>\n",
       "    </tr>\n",
       "    <tr>\n",
       "      <th rowspan=\"3\" valign=\"top\">u120</th>\n",
       "      <th>diagnosis</th>\n",
       "      <td>13</td>\n",
       "    </tr>\n",
       "    <tr>\n",
       "      <th>sprint</th>\n",
       "      <td>35</td>\n",
       "    </tr>\n",
       "    <tr>\n",
       "      <th>tutor</th>\n",
       "      <td>8</td>\n",
       "    </tr>\n",
       "  </tbody>\n",
       "</table>\n",
       "<p>100 rows × 1 columns</p>\n",
       "</div>"
      ],
      "text/plain": [
       "                     Sources Count\n",
       "user source                       \n",
       "u1   adaptive_offer             15\n",
       "     diagnosis                   7\n",
       "     review_quiz                12\n",
       "     sprint                    526\n",
       "     tutor                      24\n",
       "...                            ...\n",
       "u12  diagnosis                  13\n",
       "     sprint                     38\n",
       "u120 diagnosis                  13\n",
       "     sprint                     35\n",
       "     tutor                       8\n",
       "\n",
       "[100 rows x 1 columns]"
      ]
     },
     "execution_count": 1054,
     "metadata": {},
     "output_type": "execute_result"
    }
   ],
   "source": [
    "metrics.head(100)\n"
   ]
  },
  {
   "cell_type": "code",
   "execution_count": 1055,
   "id": "13702a9c",
   "metadata": {},
   "outputs": [
    {
     "data": {
      "text/html": [
       "<div>\n",
       "<style scoped>\n",
       "    .dataframe tbody tr th:only-of-type {\n",
       "        vertical-align: middle;\n",
       "    }\n",
       "\n",
       "    .dataframe tbody tr th {\n",
       "        vertical-align: top;\n",
       "    }\n",
       "\n",
       "    .dataframe thead th {\n",
       "        text-align: right;\n",
       "    }\n",
       "</style>\n",
       "<table border=\"1\" class=\"dataframe\">\n",
       "  <thead>\n",
       "    <tr style=\"text-align: right;\">\n",
       "      <th></th>\n",
       "      <th>sprints</th>\n",
       "    </tr>\n",
       "    <tr>\n",
       "      <th>user</th>\n",
       "      <th></th>\n",
       "    </tr>\n",
       "  </thead>\n",
       "  <tbody>\n",
       "    <tr>\n",
       "      <th>u1</th>\n",
       "      <td>526</td>\n",
       "    </tr>\n",
       "    <tr>\n",
       "      <th>u100</th>\n",
       "      <td>6</td>\n",
       "    </tr>\n",
       "    <tr>\n",
       "      <th>u1000</th>\n",
       "      <td>1139</td>\n",
       "    </tr>\n",
       "    <tr>\n",
       "      <th>u1002</th>\n",
       "      <td>17</td>\n",
       "    </tr>\n",
       "    <tr>\n",
       "      <th>u1003</th>\n",
       "      <td>42</td>\n",
       "    </tr>\n",
       "    <tr>\n",
       "      <th>...</th>\n",
       "      <td>...</td>\n",
       "    </tr>\n",
       "    <tr>\n",
       "      <th>u995</th>\n",
       "      <td>22784</td>\n",
       "    </tr>\n",
       "    <tr>\n",
       "      <th>u996</th>\n",
       "      <td>4</td>\n",
       "    </tr>\n",
       "    <tr>\n",
       "      <th>u997</th>\n",
       "      <td>93</td>\n",
       "    </tr>\n",
       "    <tr>\n",
       "      <th>u998</th>\n",
       "      <td>162</td>\n",
       "    </tr>\n",
       "    <tr>\n",
       "      <th>u999</th>\n",
       "      <td>433</td>\n",
       "    </tr>\n",
       "  </tbody>\n",
       "</table>\n",
       "<p>719 rows × 1 columns</p>\n",
       "</div>"
      ],
      "text/plain": [
       "       sprints\n",
       "user          \n",
       "u1         526\n",
       "u100         6\n",
       "u1000     1139\n",
       "u1002       17\n",
       "u1003       42\n",
       "...        ...\n",
       "u995     22784\n",
       "u996         4\n",
       "u997        93\n",
       "u998       162\n",
       "u999       433\n",
       "\n",
       "[719 rows x 1 columns]"
      ]
     },
     "execution_count": 1055,
     "metadata": {},
     "output_type": "execute_result"
    }
   ],
   "source": [
    "final_data = final_data[final_data.source=='sprint']\n",
    "nxt= (final_data).groupby(final_data['user']).aggregate({'item_id':'count'})\n",
    "nxt = nxt.rename({'item_id': 'sprints'}, axis=1)\n",
    "nxt"
   ]
  },
  {
   "cell_type": "code",
   "execution_count": 1056,
   "id": "f4394e7f",
   "metadata": {},
   "outputs": [],
   "source": [
    "df_merged = pd.merge(df_merged,nxt, how='left', left_on=['user'], right_on=['user'])"
   ]
  },
  {
   "cell_type": "code",
   "execution_count": 1057,
   "id": "fb0dc682",
   "metadata": {},
   "outputs": [],
   "source": [
    "df_merged.to_csv(\"usertable.csv\")"
   ]
  },
  {
   "cell_type": "code",
   "execution_count": 1058,
   "id": "c01ccafc",
   "metadata": {},
   "outputs": [
    {
     "data": {
      "text/html": [
       "<div>\n",
       "<style scoped>\n",
       "    .dataframe tbody tr th:only-of-type {\n",
       "        vertical-align: middle;\n",
       "    }\n",
       "\n",
       "    .dataframe tbody tr th {\n",
       "        vertical-align: top;\n",
       "    }\n",
       "\n",
       "    .dataframe thead th {\n",
       "        text-align: right;\n",
       "    }\n",
       "</style>\n",
       "<table border=\"1\" class=\"dataframe\">\n",
       "  <thead>\n",
       "    <tr style=\"text-align: right;\">\n",
       "      <th></th>\n",
       "      <th>no_correct_ans</th>\n",
       "      <th>total_questions</th>\n",
       "      <th>no_lectures_watched</th>\n",
       "      <th>no_explinations_read</th>\n",
       "      <th>no_audio_listened</th>\n",
       "      <th>marks_percentage</th>\n",
       "      <th>sprints</th>\n",
       "    </tr>\n",
       "    <tr>\n",
       "      <th>user</th>\n",
       "      <th></th>\n",
       "      <th></th>\n",
       "      <th></th>\n",
       "      <th></th>\n",
       "      <th></th>\n",
       "      <th></th>\n",
       "      <th></th>\n",
       "    </tr>\n",
       "  </thead>\n",
       "  <tbody>\n",
       "    <tr>\n",
       "      <th>u1</th>\n",
       "      <td>369</td>\n",
       "      <td>584</td>\n",
       "      <td>24.0</td>\n",
       "      <td>482.0</td>\n",
       "      <td>477</td>\n",
       "      <td>63.18</td>\n",
       "      <td>526.0</td>\n",
       "    </tr>\n",
       "    <tr>\n",
       "      <th>u10</th>\n",
       "      <td>1</td>\n",
       "      <td>1</td>\n",
       "      <td>NaN</td>\n",
       "      <td>1.0</td>\n",
       "      <td>1</td>\n",
       "      <td>100.00</td>\n",
       "      <td>NaN</td>\n",
       "    </tr>\n",
       "    <tr>\n",
       "      <th>u100</th>\n",
       "      <td>12</td>\n",
       "      <td>25</td>\n",
       "      <td>2.0</td>\n",
       "      <td>14.0</td>\n",
       "      <td>23</td>\n",
       "      <td>48.00</td>\n",
       "      <td>6.0</td>\n",
       "    </tr>\n",
       "    <tr>\n",
       "      <th>u1000</th>\n",
       "      <td>743</td>\n",
       "      <td>1322</td>\n",
       "      <td>94.0</td>\n",
       "      <td>832.0</td>\n",
       "      <td>837</td>\n",
       "      <td>56.20</td>\n",
       "      <td>1139.0</td>\n",
       "    </tr>\n",
       "    <tr>\n",
       "      <th>u1001</th>\n",
       "      <td>2</td>\n",
       "      <td>13</td>\n",
       "      <td>NaN</td>\n",
       "      <td>NaN</td>\n",
       "      <td>7</td>\n",
       "      <td>15.38</td>\n",
       "      <td>NaN</td>\n",
       "    </tr>\n",
       "    <tr>\n",
       "      <th>...</th>\n",
       "      <td>...</td>\n",
       "      <td>...</td>\n",
       "      <td>...</td>\n",
       "      <td>...</td>\n",
       "      <td>...</td>\n",
       "      <td>...</td>\n",
       "      <td>...</td>\n",
       "    </tr>\n",
       "    <tr>\n",
       "      <th>u995</th>\n",
       "      <td>11601</td>\n",
       "      <td>30113</td>\n",
       "      <td>160.0</td>\n",
       "      <td>4884.0</td>\n",
       "      <td>4887</td>\n",
       "      <td>38.52</td>\n",
       "      <td>22784.0</td>\n",
       "    </tr>\n",
       "    <tr>\n",
       "      <th>u996</th>\n",
       "      <td>8</td>\n",
       "      <td>14</td>\n",
       "      <td>5.0</td>\n",
       "      <td>4.0</td>\n",
       "      <td>11</td>\n",
       "      <td>57.14</td>\n",
       "      <td>4.0</td>\n",
       "    </tr>\n",
       "    <tr>\n",
       "      <th>u997</th>\n",
       "      <td>83</td>\n",
       "      <td>113</td>\n",
       "      <td>3.0</td>\n",
       "      <td>82.0</td>\n",
       "      <td>87</td>\n",
       "      <td>73.45</td>\n",
       "      <td>93.0</td>\n",
       "    </tr>\n",
       "    <tr>\n",
       "      <th>u998</th>\n",
       "      <td>114</td>\n",
       "      <td>185</td>\n",
       "      <td>30.0</td>\n",
       "      <td>111.0</td>\n",
       "      <td>121</td>\n",
       "      <td>61.62</td>\n",
       "      <td>162.0</td>\n",
       "    </tr>\n",
       "    <tr>\n",
       "      <th>u999</th>\n",
       "      <td>328</td>\n",
       "      <td>467</td>\n",
       "      <td>19.0</td>\n",
       "      <td>422.0</td>\n",
       "      <td>430</td>\n",
       "      <td>70.24</td>\n",
       "      <td>433.0</td>\n",
       "    </tr>\n",
       "  </tbody>\n",
       "</table>\n",
       "<p>858 rows × 7 columns</p>\n",
       "</div>"
      ],
      "text/plain": [
       "       no_correct_ans  total_questions  no_lectures_watched  \\\n",
       "user                                                          \n",
       "u1                369              584                 24.0   \n",
       "u10                 1                1                  NaN   \n",
       "u100               12               25                  2.0   \n",
       "u1000             743             1322                 94.0   \n",
       "u1001               2               13                  NaN   \n",
       "...               ...              ...                  ...   \n",
       "u995            11601            30113                160.0   \n",
       "u996                8               14                  5.0   \n",
       "u997               83              113                  3.0   \n",
       "u998              114              185                 30.0   \n",
       "u999              328              467                 19.0   \n",
       "\n",
       "       no_explinations_read  no_audio_listened  marks_percentage  sprints  \n",
       "user                                                                       \n",
       "u1                    482.0                477             63.18    526.0  \n",
       "u10                     1.0                  1            100.00      NaN  \n",
       "u100                   14.0                 23             48.00      6.0  \n",
       "u1000                 832.0                837             56.20   1139.0  \n",
       "u1001                   NaN                  7             15.38      NaN  \n",
       "...                     ...                ...               ...      ...  \n",
       "u995                 4884.0               4887             38.52  22784.0  \n",
       "u996                    4.0                 11             57.14      4.0  \n",
       "u997                   82.0                 87             73.45     93.0  \n",
       "u998                  111.0                121             61.62    162.0  \n",
       "u999                  422.0                430             70.24    433.0  \n",
       "\n",
       "[858 rows x 7 columns]"
      ]
     },
     "execution_count": 1058,
     "metadata": {},
     "output_type": "execute_result"
    }
   ],
   "source": [
    "df_merged"
   ]
  },
  {
   "cell_type": "code",
   "execution_count": 1059,
   "id": "20a6bc91",
   "metadata": {},
   "outputs": [],
   "source": [
    "# additional metrics 2 - percentage of platforms(web,mobile) used by users"
   ]
  },
  {
   "cell_type": "code",
   "execution_count": 1060,
   "id": "18c94bf4",
   "metadata": {},
   "outputs": [
    {
     "name": "stdout",
     "output_type": "stream",
     "text": [
      "mobile    57.605232\n",
      "web       42.394768\n",
      "Name: platform, dtype: float64\n"
     ]
    }
   ],
   "source": [
    "print(final_data['platform'].value_counts()*100/len(final_data))"
   ]
  },
  {
   "cell_type": "code",
   "execution_count": 1061,
   "id": "12953ef3",
   "metadata": {},
   "outputs": [],
   "source": [
    "# additional metrics 3- percentage of each source used by users "
   ]
  },
  {
   "cell_type": "code",
   "execution_count": 1062,
   "id": "893679c2",
   "metadata": {},
   "outputs": [
    {
     "name": "stdout",
     "output_type": "stream",
     "text": [
      "sprint    100.0\n",
      "Name: source, dtype: float64\n"
     ]
    }
   ],
   "source": [
    "print(final_data['source'].value_counts()*100/len(final_data))"
   ]
  },
  {
   "cell_type": "code",
   "execution_count": 1063,
   "id": "6c1a3bac",
   "metadata": {},
   "outputs": [],
   "source": [
    "# question 2"
   ]
  },
  {
   "cell_type": "code",
   "execution_count": 1064,
   "id": "324c6d8a",
   "metadata": {},
   "outputs": [],
   "source": [
    "qseries=data_frame[\"item_id\"].str.startswith(\"q\")"
   ]
  },
  {
   "cell_type": "code",
   "execution_count": 1065,
   "id": "5c8c6e01",
   "metadata": {},
   "outputs": [],
   "source": [
    "qdata=data_frame[qseries]"
   ]
  },
  {
   "cell_type": "code",
   "execution_count": 1066,
   "id": "62780249",
   "metadata": {},
   "outputs": [],
   "source": [
    "qx=pd.merge(qdata,questions, how='left', left_on=['item_id'], right_on=['question_id'])"
   ]
  },
  {
   "cell_type": "code",
   "execution_count": 1067,
   "id": "0236a01c",
   "metadata": {},
   "outputs": [],
   "source": [
    "funresult2=qx.groupby('question_id').aggregate({'user':'nunique'})"
   ]
  },
  {
   "cell_type": "code",
   "execution_count": 1068,
   "id": "2f6b96f0",
   "metadata": {},
   "outputs": [],
   "source": [
    "funresult2=funresult2.rename({'user': 'users practiced'}, axis=1)"
   ]
  },
  {
   "cell_type": "code",
   "execution_count": 1069,
   "id": "dc1d11fa",
   "metadata": {},
   "outputs": [],
   "source": [
    "# printing 2a result"
   ]
  },
  {
   "cell_type": "code",
   "execution_count": 1070,
   "id": "6193a022",
   "metadata": {},
   "outputs": [
    {
     "data": {
      "text/html": [
       "<div>\n",
       "<style scoped>\n",
       "    .dataframe tbody tr th:only-of-type {\n",
       "        vertical-align: middle;\n",
       "    }\n",
       "\n",
       "    .dataframe tbody tr th {\n",
       "        vertical-align: top;\n",
       "    }\n",
       "\n",
       "    .dataframe thead th {\n",
       "        text-align: right;\n",
       "    }\n",
       "</style>\n",
       "<table border=\"1\" class=\"dataframe\">\n",
       "  <thead>\n",
       "    <tr style=\"text-align: right;\">\n",
       "      <th></th>\n",
       "      <th>users practiced</th>\n",
       "    </tr>\n",
       "    <tr>\n",
       "      <th>question_id</th>\n",
       "      <th></th>\n",
       "    </tr>\n",
       "  </thead>\n",
       "  <tbody>\n",
       "    <tr>\n",
       "      <th>q1</th>\n",
       "      <td>53</td>\n",
       "    </tr>\n",
       "    <tr>\n",
       "      <th>q10</th>\n",
       "      <td>239</td>\n",
       "    </tr>\n",
       "    <tr>\n",
       "      <th>q100</th>\n",
       "      <td>73</td>\n",
       "    </tr>\n",
       "    <tr>\n",
       "      <th>q1000</th>\n",
       "      <td>157</td>\n",
       "    </tr>\n",
       "    <tr>\n",
       "      <th>q10000</th>\n",
       "      <td>25</td>\n",
       "    </tr>\n",
       "    <tr>\n",
       "      <th>...</th>\n",
       "      <td>...</td>\n",
       "    </tr>\n",
       "    <tr>\n",
       "      <th>q9995</th>\n",
       "      <td>17</td>\n",
       "    </tr>\n",
       "    <tr>\n",
       "      <th>q9996</th>\n",
       "      <td>27</td>\n",
       "    </tr>\n",
       "    <tr>\n",
       "      <th>q9997</th>\n",
       "      <td>31</td>\n",
       "    </tr>\n",
       "    <tr>\n",
       "      <th>q9998</th>\n",
       "      <td>20</td>\n",
       "    </tr>\n",
       "    <tr>\n",
       "      <th>q9999</th>\n",
       "      <td>20</td>\n",
       "    </tr>\n",
       "  </tbody>\n",
       "</table>\n",
       "<p>11550 rows × 1 columns</p>\n",
       "</div>"
      ],
      "text/plain": [
       "             users practiced\n",
       "question_id                 \n",
       "q1                        53\n",
       "q10                      239\n",
       "q100                      73\n",
       "q1000                    157\n",
       "q10000                    25\n",
       "...                      ...\n",
       "q9995                     17\n",
       "q9996                     27\n",
       "q9997                     31\n",
       "q9998                     20\n",
       "q9999                     20\n",
       "\n",
       "[11550 rows x 1 columns]"
      ]
     },
     "execution_count": 1070,
     "metadata": {},
     "output_type": "execute_result"
    }
   ],
   "source": [
    "funresult2"
   ]
  },
  {
   "cell_type": "code",
   "execution_count": 1071,
   "id": "6fbd1bd9",
   "metadata": {},
   "outputs": [],
   "source": [
    "# finding number of questions belongs to each part"
   ]
  },
  {
   "cell_type": "code",
   "execution_count": 1072,
   "id": "c0acfce2",
   "metadata": {},
   "outputs": [],
   "source": [
    "typedata=pd.merge(data1,questions, how='left', left_on=['item_id'], right_on=['question_id'])"
   ]
  },
  {
   "cell_type": "code",
   "execution_count": 1073,
   "id": "0d7c558b",
   "metadata": {},
   "outputs": [],
   "source": [
    "result2b=typedata.groupby('part').aggregate({'item_id':'nunique'})"
   ]
  },
  {
   "cell_type": "code",
   "execution_count": 1074,
   "id": "37781c54",
   "metadata": {},
   "outputs": [],
   "source": [
    "result2b = result2b.rename({'item_id': 'no_questions'}, axis=1)"
   ]
  },
  {
   "cell_type": "code",
   "execution_count": 1075,
   "id": "5b38a9ab",
   "metadata": {},
   "outputs": [],
   "source": [
    "#printing result 2b"
   ]
  },
  {
   "cell_type": "code",
   "execution_count": 1076,
   "id": "04733da7",
   "metadata": {},
   "outputs": [
    {
     "data": {
      "text/html": [
       "<div>\n",
       "<style scoped>\n",
       "    .dataframe tbody tr th:only-of-type {\n",
       "        vertical-align: middle;\n",
       "    }\n",
       "\n",
       "    .dataframe tbody tr th {\n",
       "        vertical-align: top;\n",
       "    }\n",
       "\n",
       "    .dataframe thead th {\n",
       "        text-align: right;\n",
       "    }\n",
       "</style>\n",
       "<table border=\"1\" class=\"dataframe\">\n",
       "  <thead>\n",
       "    <tr style=\"text-align: right;\">\n",
       "      <th></th>\n",
       "      <th>no_questions</th>\n",
       "    </tr>\n",
       "    <tr>\n",
       "      <th>part</th>\n",
       "      <th></th>\n",
       "    </tr>\n",
       "  </thead>\n",
       "  <tbody>\n",
       "    <tr>\n",
       "      <th>1</th>\n",
       "      <td>621</td>\n",
       "    </tr>\n",
       "    <tr>\n",
       "      <th>2</th>\n",
       "      <td>1548</td>\n",
       "    </tr>\n",
       "    <tr>\n",
       "      <th>3</th>\n",
       "      <td>1086</td>\n",
       "    </tr>\n",
       "    <tr>\n",
       "      <th>4</th>\n",
       "      <td>1005</td>\n",
       "    </tr>\n",
       "    <tr>\n",
       "      <th>5</th>\n",
       "      <td>5015</td>\n",
       "    </tr>\n",
       "    <tr>\n",
       "      <th>6</th>\n",
       "      <td>1200</td>\n",
       "    </tr>\n",
       "    <tr>\n",
       "      <th>7</th>\n",
       "      <td>1075</td>\n",
       "    </tr>\n",
       "  </tbody>\n",
       "</table>\n",
       "</div>"
      ],
      "text/plain": [
       "      no_questions\n",
       "part              \n",
       "1              621\n",
       "2             1548\n",
       "3             1086\n",
       "4             1005\n",
       "5             5015\n",
       "6             1200\n",
       "7             1075"
      ]
     },
     "execution_count": 1076,
     "metadata": {},
     "output_type": "execute_result"
    }
   ],
   "source": [
    "result2b.head(10)"
   ]
  },
  {
   "cell_type": "code",
   "execution_count": 1077,
   "id": "6a7ea4b3",
   "metadata": {},
   "outputs": [],
   "source": [
    "#finding number of times each question practised "
   ]
  },
  {
   "cell_type": "code",
   "execution_count": 1078,
   "id": "652960cd",
   "metadata": {},
   "outputs": [],
   "source": [
    "result2c=typedata.groupby('item_id').aggregate({'action_type':'count'})"
   ]
  },
  {
   "cell_type": "code",
   "execution_count": 1079,
   "id": "df2bfb1c",
   "metadata": {},
   "outputs": [],
   "source": [
    "result2c=result2c.rename({'action_type': 'no_times_practised'}, axis=1)"
   ]
  },
  {
   "cell_type": "code",
   "execution_count": 1080,
   "id": "d8435690",
   "metadata": {},
   "outputs": [],
   "source": [
    "# printing result 2c"
   ]
  },
  {
   "cell_type": "code",
   "execution_count": 1081,
   "id": "1df4cb5a",
   "metadata": {},
   "outputs": [
    {
     "data": {
      "text/html": [
       "<div>\n",
       "<style scoped>\n",
       "    .dataframe tbody tr th:only-of-type {\n",
       "        vertical-align: middle;\n",
       "    }\n",
       "\n",
       "    .dataframe tbody tr th {\n",
       "        vertical-align: top;\n",
       "    }\n",
       "\n",
       "    .dataframe thead th {\n",
       "        text-align: right;\n",
       "    }\n",
       "</style>\n",
       "<table border=\"1\" class=\"dataframe\">\n",
       "  <thead>\n",
       "    <tr style=\"text-align: right;\">\n",
       "      <th></th>\n",
       "      <th>no_times_practised</th>\n",
       "    </tr>\n",
       "    <tr>\n",
       "      <th>item_id</th>\n",
       "      <th></th>\n",
       "    </tr>\n",
       "  </thead>\n",
       "  <tbody>\n",
       "    <tr>\n",
       "      <th>q1</th>\n",
       "      <td>66</td>\n",
       "    </tr>\n",
       "    <tr>\n",
       "      <th>q10</th>\n",
       "      <td>411</td>\n",
       "    </tr>\n",
       "    <tr>\n",
       "      <th>q100</th>\n",
       "      <td>92</td>\n",
       "    </tr>\n",
       "    <tr>\n",
       "      <th>q1000</th>\n",
       "      <td>249</td>\n",
       "    </tr>\n",
       "    <tr>\n",
       "      <th>q10000</th>\n",
       "      <td>42</td>\n",
       "    </tr>\n",
       "    <tr>\n",
       "      <th>...</th>\n",
       "      <td>...</td>\n",
       "    </tr>\n",
       "    <tr>\n",
       "      <th>q10092</th>\n",
       "      <td>36</td>\n",
       "    </tr>\n",
       "    <tr>\n",
       "      <th>q10093</th>\n",
       "      <td>52</td>\n",
       "    </tr>\n",
       "    <tr>\n",
       "      <th>q10094</th>\n",
       "      <td>44</td>\n",
       "    </tr>\n",
       "    <tr>\n",
       "      <th>q10095</th>\n",
       "      <td>30</td>\n",
       "    </tr>\n",
       "    <tr>\n",
       "      <th>q10096</th>\n",
       "      <td>34</td>\n",
       "    </tr>\n",
       "  </tbody>\n",
       "</table>\n",
       "<p>100 rows × 1 columns</p>\n",
       "</div>"
      ],
      "text/plain": [
       "         no_times_practised\n",
       "item_id                    \n",
       "q1                       66\n",
       "q10                     411\n",
       "q100                     92\n",
       "q1000                   249\n",
       "q10000                   42\n",
       "...                     ...\n",
       "q10092                   36\n",
       "q10093                   52\n",
       "q10094                   44\n",
       "q10095                   30\n",
       "q10096                   34\n",
       "\n",
       "[100 rows x 1 columns]"
      ]
     },
     "execution_count": 1081,
     "metadata": {},
     "output_type": "execute_result"
    }
   ],
   "source": [
    "result2c.head(100)"
   ]
  },
  {
   "cell_type": "code",
   "execution_count": 1082,
   "id": "1b51f77a",
   "metadata": {},
   "outputs": [],
   "source": [
    "# finding count of users  answered questions correctly"
   ]
  },
  {
   "cell_type": "code",
   "execution_count": 1083,
   "id": "476536c1",
   "metadata": {},
   "outputs": [],
   "source": [
    "correct = []\n",
    "for i in range(len(typedata)):\n",
    "    if typedata['user_answer'].iloc[i] == typedata['correct_answer'].iloc[i]:\n",
    "        correct.append(1)\n",
    "    else:\n",
    "        correct.append(0)"
   ]
  },
  {
   "cell_type": "code",
   "execution_count": 1084,
   "id": "e3b97c1c",
   "metadata": {},
   "outputs": [],
   "source": [
    "typedata['correct']=correct"
   ]
  },
  {
   "cell_type": "code",
   "execution_count": 1085,
   "id": "09a1e2fb",
   "metadata": {},
   "outputs": [],
   "source": [
    "result2d=typedata.groupby('question_id').aggregate({'correct':'sum'})"
   ]
  },
  {
   "cell_type": "code",
   "execution_count": 1086,
   "id": "fc582710",
   "metadata": {},
   "outputs": [],
   "source": [
    "#print result 2d"
   ]
  },
  {
   "cell_type": "code",
   "execution_count": 1087,
   "id": "ab392fa9",
   "metadata": {},
   "outputs": [
    {
     "data": {
      "text/html": [
       "<div>\n",
       "<style scoped>\n",
       "    .dataframe tbody tr th:only-of-type {\n",
       "        vertical-align: middle;\n",
       "    }\n",
       "\n",
       "    .dataframe tbody tr th {\n",
       "        vertical-align: top;\n",
       "    }\n",
       "\n",
       "    .dataframe thead th {\n",
       "        text-align: right;\n",
       "    }\n",
       "</style>\n",
       "<table border=\"1\" class=\"dataframe\">\n",
       "  <thead>\n",
       "    <tr style=\"text-align: right;\">\n",
       "      <th></th>\n",
       "      <th>no_times_answered_correctly</th>\n",
       "    </tr>\n",
       "    <tr>\n",
       "      <th>question_id</th>\n",
       "      <th></th>\n",
       "    </tr>\n",
       "  </thead>\n",
       "  <tbody>\n",
       "    <tr>\n",
       "      <th>q1</th>\n",
       "      <td>54</td>\n",
       "    </tr>\n",
       "    <tr>\n",
       "      <th>q10</th>\n",
       "      <td>137</td>\n",
       "    </tr>\n",
       "    <tr>\n",
       "      <th>q100</th>\n",
       "      <td>85</td>\n",
       "    </tr>\n",
       "    <tr>\n",
       "      <th>q1000</th>\n",
       "      <td>132</td>\n",
       "    </tr>\n",
       "    <tr>\n",
       "      <th>q10000</th>\n",
       "      <td>19</td>\n",
       "    </tr>\n",
       "    <tr>\n",
       "      <th>...</th>\n",
       "      <td>...</td>\n",
       "    </tr>\n",
       "    <tr>\n",
       "      <th>q9995</th>\n",
       "      <td>20</td>\n",
       "    </tr>\n",
       "    <tr>\n",
       "      <th>q9996</th>\n",
       "      <td>21</td>\n",
       "    </tr>\n",
       "    <tr>\n",
       "      <th>q9997</th>\n",
       "      <td>17</td>\n",
       "    </tr>\n",
       "    <tr>\n",
       "      <th>q9998</th>\n",
       "      <td>19</td>\n",
       "    </tr>\n",
       "    <tr>\n",
       "      <th>q9999</th>\n",
       "      <td>19</td>\n",
       "    </tr>\n",
       "  </tbody>\n",
       "</table>\n",
       "<p>11550 rows × 1 columns</p>\n",
       "</div>"
      ],
      "text/plain": [
       "             no_times_answered_correctly\n",
       "question_id                             \n",
       "q1                                    54\n",
       "q10                                  137\n",
       "q100                                  85\n",
       "q1000                                132\n",
       "q10000                                19\n",
       "...                                  ...\n",
       "q9995                                 20\n",
       "q9996                                 21\n",
       "q9997                                 17\n",
       "q9998                                 19\n",
       "q9999                                 19\n",
       "\n",
       "[11550 rows x 1 columns]"
      ]
     },
     "execution_count": 1087,
     "metadata": {},
     "output_type": "execute_result"
    }
   ],
   "source": [
    "result2d.rename({'correct': 'no_times_answered_correctly'}, axis=1)"
   ]
  },
  {
   "cell_type": "code",
   "execution_count": 1088,
   "id": "6060a366",
   "metadata": {},
   "outputs": [],
   "source": [
    "# questions table metrics "
   ]
  },
  {
   "cell_type": "code",
   "execution_count": 1089,
   "id": "90cb7431",
   "metadata": {},
   "outputs": [],
   "source": [
    "questionsresult = pd.concat([result2c, result2d], axis=1, join=\"inner\")"
   ]
  },
  {
   "cell_type": "code",
   "execution_count": 1090,
   "id": "d279d283",
   "metadata": {},
   "outputs": [],
   "source": [
    "questionsresult=questionsresult.rename({'correct': 'no_times_answered_correctly'}, axis=1)"
   ]
  },
  {
   "cell_type": "code",
   "execution_count": 1091,
   "id": "59f057ef",
   "metadata": {},
   "outputs": [],
   "source": [
    " questionsresult['percentage'] = round(questionsresult['no_times_answered_correctly']*100/questionsresult['no_times_practised'],2)"
   ]
  },
  {
   "cell_type": "code",
   "execution_count": 1092,
   "id": "c31d30b1",
   "metadata": {},
   "outputs": [],
   "source": [
    "questionsresult.to_csv(\"questionsresult.csv\")"
   ]
  },
  {
   "cell_type": "code",
   "execution_count": 1093,
   "id": "58f14c32",
   "metadata": {},
   "outputs": [
    {
     "data": {
      "text/html": [
       "<div>\n",
       "<style scoped>\n",
       "    .dataframe tbody tr th:only-of-type {\n",
       "        vertical-align: middle;\n",
       "    }\n",
       "\n",
       "    .dataframe tbody tr th {\n",
       "        vertical-align: top;\n",
       "    }\n",
       "\n",
       "    .dataframe thead th {\n",
       "        text-align: right;\n",
       "    }\n",
       "</style>\n",
       "<table border=\"1\" class=\"dataframe\">\n",
       "  <thead>\n",
       "    <tr style=\"text-align: right;\">\n",
       "      <th></th>\n",
       "      <th>no_times_practised</th>\n",
       "      <th>no_times_answered_correctly</th>\n",
       "      <th>percentage</th>\n",
       "    </tr>\n",
       "  </thead>\n",
       "  <tbody>\n",
       "    <tr>\n",
       "      <th>q1</th>\n",
       "      <td>66</td>\n",
       "      <td>54</td>\n",
       "      <td>81.82</td>\n",
       "    </tr>\n",
       "    <tr>\n",
       "      <th>q10</th>\n",
       "      <td>411</td>\n",
       "      <td>137</td>\n",
       "      <td>33.33</td>\n",
       "    </tr>\n",
       "    <tr>\n",
       "      <th>q100</th>\n",
       "      <td>92</td>\n",
       "      <td>85</td>\n",
       "      <td>92.39</td>\n",
       "    </tr>\n",
       "    <tr>\n",
       "      <th>q1000</th>\n",
       "      <td>249</td>\n",
       "      <td>132</td>\n",
       "      <td>53.01</td>\n",
       "    </tr>\n",
       "    <tr>\n",
       "      <th>q10000</th>\n",
       "      <td>42</td>\n",
       "      <td>19</td>\n",
       "      <td>45.24</td>\n",
       "    </tr>\n",
       "    <tr>\n",
       "      <th>...</th>\n",
       "      <td>...</td>\n",
       "      <td>...</td>\n",
       "      <td>...</td>\n",
       "    </tr>\n",
       "    <tr>\n",
       "      <th>q9995</th>\n",
       "      <td>44</td>\n",
       "      <td>20</td>\n",
       "      <td>45.45</td>\n",
       "    </tr>\n",
       "    <tr>\n",
       "      <th>q9996</th>\n",
       "      <td>45</td>\n",
       "      <td>21</td>\n",
       "      <td>46.67</td>\n",
       "    </tr>\n",
       "    <tr>\n",
       "      <th>q9997</th>\n",
       "      <td>43</td>\n",
       "      <td>17</td>\n",
       "      <td>39.53</td>\n",
       "    </tr>\n",
       "    <tr>\n",
       "      <th>q9998</th>\n",
       "      <td>33</td>\n",
       "      <td>19</td>\n",
       "      <td>57.58</td>\n",
       "    </tr>\n",
       "    <tr>\n",
       "      <th>q9999</th>\n",
       "      <td>24</td>\n",
       "      <td>19</td>\n",
       "      <td>79.17</td>\n",
       "    </tr>\n",
       "  </tbody>\n",
       "</table>\n",
       "<p>11550 rows × 3 columns</p>\n",
       "</div>"
      ],
      "text/plain": [
       "        no_times_practised  no_times_answered_correctly  percentage\n",
       "q1                      66                           54       81.82\n",
       "q10                    411                          137       33.33\n",
       "q100                    92                           85       92.39\n",
       "q1000                  249                          132       53.01\n",
       "q10000                  42                           19       45.24\n",
       "...                    ...                          ...         ...\n",
       "q9995                   44                           20       45.45\n",
       "q9996                   45                           21       46.67\n",
       "q9997                   43                           17       39.53\n",
       "q9998                   33                           19       57.58\n",
       "q9999                   24                           19       79.17\n",
       "\n",
       "[11550 rows x 3 columns]"
      ]
     },
     "execution_count": 1093,
     "metadata": {},
     "output_type": "execute_result"
    }
   ],
   "source": [
    "questionsresult"
   ]
  },
  {
   "cell_type": "code",
   "execution_count": 1094,
   "id": "6842a111",
   "metadata": {},
   "outputs": [],
   "source": [
    "questionsresult.to_csv(\"questionstable.csv\")\n"
   ]
  },
  {
   "cell_type": "code",
   "execution_count": 1095,
   "id": "785a173a",
   "metadata": {},
   "outputs": [
    {
     "data": {
      "image/png": "[encoded data removed]",
      "text/plain": [
       "<Figure size 432x288 with 1 Axes>"
      ]
     },
     "metadata": {
      "needs_background": "light"
     },
     "output_type": "display_data"
    },
    {
     "data": {
      "image/png": "[encoded data removed]",
      "text/plain": [
       "<Figure size 432x288 with 1 Axes>"
      ]
     },
     "metadata": {
      "needs_background": "light"
     },
     "output_type": "display_data"
    },
    {
     "data": {
      "image/png": "[encoded data removed]",
      "text/plain": [
       "<Figure size 432x288 with 1 Axes>"
      ]
     },
     "metadata": {
      "needs_background": "light"
     },
     "output_type": "display_data"
    }
   ],
   "source": [
    "for i in questionsresult.columns:\n",
    "    sns.histplot(questionsresult[i])\n",
    "    plt.show()"
   ]
  },
  {
   "cell_type": "code",
   "execution_count": 1096,
   "id": "e119e7b0",
   "metadata": {},
   "outputs": [],
   "source": [
    "# finding top ten users for there activity on application"
   ]
  },
  {
   "cell_type": "code",
   "execution_count": 1097,
   "id": "9acf8938",
   "metadata": {},
   "outputs": [],
   "source": [
    "resultfun=result.sort_values(\"no_correct_ans\",ascending=False).head(10)"
   ]
  },
  {
   "cell_type": "code",
   "execution_count": 1098,
   "id": "3595fd96",
   "metadata": {},
   "outputs": [
    {
     "data": {
      "text/html": [
       "<div>\n",
       "<style scoped>\n",
       "    .dataframe tbody tr th:only-of-type {\n",
       "        vertical-align: middle;\n",
       "    }\n",
       "\n",
       "    .dataframe tbody tr th {\n",
       "        vertical-align: top;\n",
       "    }\n",
       "\n",
       "    .dataframe thead th {\n",
       "        text-align: right;\n",
       "    }\n",
       "</style>\n",
       "<table border=\"1\" class=\"dataframe\">\n",
       "  <thead>\n",
       "    <tr style=\"text-align: right;\">\n",
       "      <th></th>\n",
       "      <th>no_correct_ans</th>\n",
       "      <th>total_questions</th>\n",
       "    </tr>\n",
       "    <tr>\n",
       "      <th>user</th>\n",
       "      <th></th>\n",
       "      <th></th>\n",
       "    </tr>\n",
       "  </thead>\n",
       "  <tbody>\n",
       "    <tr>\n",
       "      <th>u226</th>\n",
       "      <td>12310</td>\n",
       "      <td>41071</td>\n",
       "    </tr>\n",
       "    <tr>\n",
       "      <th>u995</th>\n",
       "      <td>11601</td>\n",
       "      <td>30113</td>\n",
       "    </tr>\n",
       "    <tr>\n",
       "      <th>u929</th>\n",
       "      <td>9911</td>\n",
       "      <td>12153</td>\n",
       "    </tr>\n",
       "    <tr>\n",
       "      <th>u743</th>\n",
       "      <td>7743</td>\n",
       "      <td>12906</td>\n",
       "    </tr>\n",
       "    <tr>\n",
       "      <th>u622</th>\n",
       "      <td>7256</td>\n",
       "      <td>10508</td>\n",
       "    </tr>\n",
       "    <tr>\n",
       "      <th>u361</th>\n",
       "      <td>7018</td>\n",
       "      <td>10687</td>\n",
       "    </tr>\n",
       "    <tr>\n",
       "      <th>u968</th>\n",
       "      <td>6654</td>\n",
       "      <td>9887</td>\n",
       "    </tr>\n",
       "    <tr>\n",
       "      <th>u50</th>\n",
       "      <td>6400</td>\n",
       "      <td>8126</td>\n",
       "    </tr>\n",
       "    <tr>\n",
       "      <th>u712</th>\n",
       "      <td>6068</td>\n",
       "      <td>9448</td>\n",
       "    </tr>\n",
       "    <tr>\n",
       "      <th>u119</th>\n",
       "      <td>6027</td>\n",
       "      <td>8177</td>\n",
       "    </tr>\n",
       "  </tbody>\n",
       "</table>\n",
       "</div>"
      ],
      "text/plain": [
       "      no_correct_ans  total_questions\n",
       "user                                 \n",
       "u226           12310            41071\n",
       "u995           11601            30113\n",
       "u929            9911            12153\n",
       "u743            7743            12906\n",
       "u622            7256            10508\n",
       "u361            7018            10687\n",
       "u968            6654             9887\n",
       "u50             6400             8126\n",
       "u712            6068             9448\n",
       "u119            6027             8177"
      ]
     },
     "execution_count": 1098,
     "metadata": {},
     "output_type": "execute_result"
    }
   ],
   "source": [
    "resultfun"
   ]
  },
  {
   "cell_type": "code",
   "execution_count": 1099,
   "id": "171d2e70",
   "metadata": {},
   "outputs": [],
   "source": [
    "top_ten = pd.merge(resultfun,df_merged, how='inner', left_on=['user','no_correct_ans','total_questions'], right_on=['user','no_correct_ans','total_questions'])"
   ]
  },
  {
   "cell_type": "code",
   "execution_count": 1100,
   "id": "1ecd1fca",
   "metadata": {},
   "outputs": [
    {
     "data": {
      "text/html": [
       "<div>\n",
       "<style scoped>\n",
       "    .dataframe tbody tr th:only-of-type {\n",
       "        vertical-align: middle;\n",
       "    }\n",
       "\n",
       "    .dataframe tbody tr th {\n",
       "        vertical-align: top;\n",
       "    }\n",
       "\n",
       "    .dataframe thead th {\n",
       "        text-align: right;\n",
       "    }\n",
       "</style>\n",
       "<table border=\"1\" class=\"dataframe\">\n",
       "  <thead>\n",
       "    <tr style=\"text-align: right;\">\n",
       "      <th></th>\n",
       "      <th>no_correct_ans</th>\n",
       "      <th>total_questions</th>\n",
       "      <th>no_lectures_watched</th>\n",
       "      <th>no_explinations_read</th>\n",
       "      <th>no_audio_listened</th>\n",
       "      <th>marks_percentage</th>\n",
       "      <th>sprints</th>\n",
       "    </tr>\n",
       "    <tr>\n",
       "      <th>user</th>\n",
       "      <th></th>\n",
       "      <th></th>\n",
       "      <th></th>\n",
       "      <th></th>\n",
       "      <th></th>\n",
       "      <th></th>\n",
       "      <th></th>\n",
       "    </tr>\n",
       "  </thead>\n",
       "  <tbody>\n",
       "    <tr>\n",
       "      <th>u226</th>\n",
       "      <td>12310</td>\n",
       "      <td>41071</td>\n",
       "      <td>28.0</td>\n",
       "      <td>2160.0</td>\n",
       "      <td>2031</td>\n",
       "      <td>29.97</td>\n",
       "      <td>35027.0</td>\n",
       "    </tr>\n",
       "    <tr>\n",
       "      <th>u995</th>\n",
       "      <td>11601</td>\n",
       "      <td>30113</td>\n",
       "      <td>160.0</td>\n",
       "      <td>4884.0</td>\n",
       "      <td>4887</td>\n",
       "      <td>38.52</td>\n",
       "      <td>22784.0</td>\n",
       "    </tr>\n",
       "    <tr>\n",
       "      <th>u929</th>\n",
       "      <td>9911</td>\n",
       "      <td>12153</td>\n",
       "      <td>100.0</td>\n",
       "      <td>6790.0</td>\n",
       "      <td>6795</td>\n",
       "      <td>81.55</td>\n",
       "      <td>7489.0</td>\n",
       "    </tr>\n",
       "    <tr>\n",
       "      <th>u743</th>\n",
       "      <td>7743</td>\n",
       "      <td>12906</td>\n",
       "      <td>168.0</td>\n",
       "      <td>7154.0</td>\n",
       "      <td>7152</td>\n",
       "      <td>60.00</td>\n",
       "      <td>10933.0</td>\n",
       "    </tr>\n",
       "    <tr>\n",
       "      <th>u622</th>\n",
       "      <td>7256</td>\n",
       "      <td>10508</td>\n",
       "      <td>40.0</td>\n",
       "      <td>1589.0</td>\n",
       "      <td>1654</td>\n",
       "      <td>69.05</td>\n",
       "      <td>5634.0</td>\n",
       "    </tr>\n",
       "    <tr>\n",
       "      <th>u361</th>\n",
       "      <td>7018</td>\n",
       "      <td>10687</td>\n",
       "      <td>109.0</td>\n",
       "      <td>3351.0</td>\n",
       "      <td>3345</td>\n",
       "      <td>65.67</td>\n",
       "      <td>5376.0</td>\n",
       "    </tr>\n",
       "    <tr>\n",
       "      <th>u968</th>\n",
       "      <td>6654</td>\n",
       "      <td>9887</td>\n",
       "      <td>82.0</td>\n",
       "      <td>4322.0</td>\n",
       "      <td>4285</td>\n",
       "      <td>67.30</td>\n",
       "      <td>7501.0</td>\n",
       "    </tr>\n",
       "    <tr>\n",
       "      <th>u50</th>\n",
       "      <td>6400</td>\n",
       "      <td>8126</td>\n",
       "      <td>96.0</td>\n",
       "      <td>1814.0</td>\n",
       "      <td>1801</td>\n",
       "      <td>78.76</td>\n",
       "      <td>2546.0</td>\n",
       "    </tr>\n",
       "    <tr>\n",
       "      <th>u712</th>\n",
       "      <td>6068</td>\n",
       "      <td>9448</td>\n",
       "      <td>136.0</td>\n",
       "      <td>2915.0</td>\n",
       "      <td>2934</td>\n",
       "      <td>64.23</td>\n",
       "      <td>4510.0</td>\n",
       "    </tr>\n",
       "    <tr>\n",
       "      <th>u119</th>\n",
       "      <td>6027</td>\n",
       "      <td>8177</td>\n",
       "      <td>113.0</td>\n",
       "      <td>2356.0</td>\n",
       "      <td>2347</td>\n",
       "      <td>73.71</td>\n",
       "      <td>4243.0</td>\n",
       "    </tr>\n",
       "  </tbody>\n",
       "</table>\n",
       "</div>"
      ],
      "text/plain": [
       "      no_correct_ans  total_questions  no_lectures_watched  \\\n",
       "user                                                         \n",
       "u226           12310            41071                 28.0   \n",
       "u995           11601            30113                160.0   \n",
       "u929            9911            12153                100.0   \n",
       "u743            7743            12906                168.0   \n",
       "u622            7256            10508                 40.0   \n",
       "u361            7018            10687                109.0   \n",
       "u968            6654             9887                 82.0   \n",
       "u50             6400             8126                 96.0   \n",
       "u712            6068             9448                136.0   \n",
       "u119            6027             8177                113.0   \n",
       "\n",
       "      no_explinations_read  no_audio_listened  marks_percentage  sprints  \n",
       "user                                                                      \n",
       "u226                2160.0               2031             29.97  35027.0  \n",
       "u995                4884.0               4887             38.52  22784.0  \n",
       "u929                6790.0               6795             81.55   7489.0  \n",
       "u743                7154.0               7152             60.00  10933.0  \n",
       "u622                1589.0               1654             69.05   5634.0  \n",
       "u361                3351.0               3345             65.67   5376.0  \n",
       "u968                4322.0               4285             67.30   7501.0  \n",
       "u50                 1814.0               1801             78.76   2546.0  \n",
       "u712                2915.0               2934             64.23   4510.0  \n",
       "u119                2356.0               2347             73.71   4243.0  "
      ]
     },
     "execution_count": 1100,
     "metadata": {},
     "output_type": "execute_result"
    }
   ],
   "source": [
    "top_ten"
   ]
  },
  {
   "cell_type": "code",
   "execution_count": 1101,
   "id": "fce67bb9",
   "metadata": {},
   "outputs": [],
   "source": [
    "top_ten['marks percentage']= round(top_ten['no_correct_ans']*100/top_ten['total_questions'],2)"
   ]
  },
  {
   "cell_type": "code",
   "execution_count": 1102,
   "id": "7b6b51a5",
   "metadata": {},
   "outputs": [],
   "source": [
    "correct = []\n",
    "for i in range(len(top_ten)):\n",
    "             correct.append(top_ten['total_questions'].iloc[i]+top_ten['no_lectures_watched'].iloc[i]+top_ten['no_audio_listened'].iloc[i]+top_ten['no_explinations_read'].iloc[i])\n",
    "   "
   ]
  },
  {
   "cell_type": "code",
   "execution_count": 1103,
   "id": "b1976695",
   "metadata": {},
   "outputs": [],
   "source": [
    "top_ten['Activity_score']= correct"
   ]
  },
  {
   "cell_type": "code",
   "execution_count": 1104,
   "id": "4b5848e2",
   "metadata": {},
   "outputs": [],
   "source": [
    "top_ten.to_csv(\"top_ten.csv\")"
   ]
  },
  {
   "cell_type": "code",
   "execution_count": 1105,
   "id": "fb525bd3",
   "metadata": {},
   "outputs": [
    {
     "data": {
      "text/html": [
       "<div>\n",
       "<style scoped>\n",
       "    .dataframe tbody tr th:only-of-type {\n",
       "        vertical-align: middle;\n",
       "    }\n",
       "\n",
       "    .dataframe tbody tr th {\n",
       "        vertical-align: top;\n",
       "    }\n",
       "\n",
       "    .dataframe thead th {\n",
       "        text-align: right;\n",
       "    }\n",
       "</style>\n",
       "<table border=\"1\" class=\"dataframe\">\n",
       "  <thead>\n",
       "    <tr style=\"text-align: right;\">\n",
       "      <th></th>\n",
       "      <th>no_correct_ans</th>\n",
       "      <th>total_questions</th>\n",
       "      <th>no_lectures_watched</th>\n",
       "      <th>no_explinations_read</th>\n",
       "      <th>no_audio_listened</th>\n",
       "      <th>marks_percentage</th>\n",
       "      <th>sprints</th>\n",
       "      <th>marks percentage</th>\n",
       "      <th>Activity_score</th>\n",
       "    </tr>\n",
       "    <tr>\n",
       "      <th>user</th>\n",
       "      <th></th>\n",
       "      <th></th>\n",
       "      <th></th>\n",
       "      <th></th>\n",
       "      <th></th>\n",
       "      <th></th>\n",
       "      <th></th>\n",
       "      <th></th>\n",
       "      <th></th>\n",
       "    </tr>\n",
       "  </thead>\n",
       "  <tbody>\n",
       "    <tr>\n",
       "      <th>u226</th>\n",
       "      <td>12310</td>\n",
       "      <td>41071</td>\n",
       "      <td>28.0</td>\n",
       "      <td>2160.0</td>\n",
       "      <td>2031</td>\n",
       "      <td>29.97</td>\n",
       "      <td>35027.0</td>\n",
       "      <td>29.97</td>\n",
       "      <td>45290.0</td>\n",
       "    </tr>\n",
       "    <tr>\n",
       "      <th>u995</th>\n",
       "      <td>11601</td>\n",
       "      <td>30113</td>\n",
       "      <td>160.0</td>\n",
       "      <td>4884.0</td>\n",
       "      <td>4887</td>\n",
       "      <td>38.52</td>\n",
       "      <td>22784.0</td>\n",
       "      <td>38.52</td>\n",
       "      <td>40044.0</td>\n",
       "    </tr>\n",
       "    <tr>\n",
       "      <th>u929</th>\n",
       "      <td>9911</td>\n",
       "      <td>12153</td>\n",
       "      <td>100.0</td>\n",
       "      <td>6790.0</td>\n",
       "      <td>6795</td>\n",
       "      <td>81.55</td>\n",
       "      <td>7489.0</td>\n",
       "      <td>81.55</td>\n",
       "      <td>25838.0</td>\n",
       "    </tr>\n",
       "    <tr>\n",
       "      <th>u743</th>\n",
       "      <td>7743</td>\n",
       "      <td>12906</td>\n",
       "      <td>168.0</td>\n",
       "      <td>7154.0</td>\n",
       "      <td>7152</td>\n",
       "      <td>60.00</td>\n",
       "      <td>10933.0</td>\n",
       "      <td>60.00</td>\n",
       "      <td>27380.0</td>\n",
       "    </tr>\n",
       "    <tr>\n",
       "      <th>u622</th>\n",
       "      <td>7256</td>\n",
       "      <td>10508</td>\n",
       "      <td>40.0</td>\n",
       "      <td>1589.0</td>\n",
       "      <td>1654</td>\n",
       "      <td>69.05</td>\n",
       "      <td>5634.0</td>\n",
       "      <td>69.05</td>\n",
       "      <td>13791.0</td>\n",
       "    </tr>\n",
       "    <tr>\n",
       "      <th>u361</th>\n",
       "      <td>7018</td>\n",
       "      <td>10687</td>\n",
       "      <td>109.0</td>\n",
       "      <td>3351.0</td>\n",
       "      <td>3345</td>\n",
       "      <td>65.67</td>\n",
       "      <td>5376.0</td>\n",
       "      <td>65.67</td>\n",
       "      <td>17492.0</td>\n",
       "    </tr>\n",
       "    <tr>\n",
       "      <th>u968</th>\n",
       "      <td>6654</td>\n",
       "      <td>9887</td>\n",
       "      <td>82.0</td>\n",
       "      <td>4322.0</td>\n",
       "      <td>4285</td>\n",
       "      <td>67.30</td>\n",
       "      <td>7501.0</td>\n",
       "      <td>67.30</td>\n",
       "      <td>18576.0</td>\n",
       "    </tr>\n",
       "    <tr>\n",
       "      <th>u50</th>\n",
       "      <td>6400</td>\n",
       "      <td>8126</td>\n",
       "      <td>96.0</td>\n",
       "      <td>1814.0</td>\n",
       "      <td>1801</td>\n",
       "      <td>78.76</td>\n",
       "      <td>2546.0</td>\n",
       "      <td>78.76</td>\n",
       "      <td>11837.0</td>\n",
       "    </tr>\n",
       "    <tr>\n",
       "      <th>u712</th>\n",
       "      <td>6068</td>\n",
       "      <td>9448</td>\n",
       "      <td>136.0</td>\n",
       "      <td>2915.0</td>\n",
       "      <td>2934</td>\n",
       "      <td>64.23</td>\n",
       "      <td>4510.0</td>\n",
       "      <td>64.23</td>\n",
       "      <td>15433.0</td>\n",
       "    </tr>\n",
       "    <tr>\n",
       "      <th>u119</th>\n",
       "      <td>6027</td>\n",
       "      <td>8177</td>\n",
       "      <td>113.0</td>\n",
       "      <td>2356.0</td>\n",
       "      <td>2347</td>\n",
       "      <td>73.71</td>\n",
       "      <td>4243.0</td>\n",
       "      <td>73.71</td>\n",
       "      <td>12993.0</td>\n",
       "    </tr>\n",
       "  </tbody>\n",
       "</table>\n",
       "</div>"
      ],
      "text/plain": [
       "      no_correct_ans  total_questions  no_lectures_watched  \\\n",
       "user                                                         \n",
       "u226           12310            41071                 28.0   \n",
       "u995           11601            30113                160.0   \n",
       "u929            9911            12153                100.0   \n",
       "u743            7743            12906                168.0   \n",
       "u622            7256            10508                 40.0   \n",
       "u361            7018            10687                109.0   \n",
       "u968            6654             9887                 82.0   \n",
       "u50             6400             8126                 96.0   \n",
       "u712            6068             9448                136.0   \n",
       "u119            6027             8177                113.0   \n",
       "\n",
       "      no_explinations_read  no_audio_listened  marks_percentage  sprints  \\\n",
       "user                                                                       \n",
       "u226                2160.0               2031             29.97  35027.0   \n",
       "u995                4884.0               4887             38.52  22784.0   \n",
       "u929                6790.0               6795             81.55   7489.0   \n",
       "u743                7154.0               7152             60.00  10933.0   \n",
       "u622                1589.0               1654             69.05   5634.0   \n",
       "u361                3351.0               3345             65.67   5376.0   \n",
       "u968                4322.0               4285             67.30   7501.0   \n",
       "u50                 1814.0               1801             78.76   2546.0   \n",
       "u712                2915.0               2934             64.23   4510.0   \n",
       "u119                2356.0               2347             73.71   4243.0   \n",
       "\n",
       "      marks percentage  Activity_score  \n",
       "user                                    \n",
       "u226             29.97         45290.0  \n",
       "u995             38.52         40044.0  \n",
       "u929             81.55         25838.0  \n",
       "u743             60.00         27380.0  \n",
       "u622             69.05         13791.0  \n",
       "u361             65.67         17492.0  \n",
       "u968             67.30         18576.0  \n",
       "u50              78.76         11837.0  \n",
       "u712             64.23         15433.0  \n",
       "u119             73.71         12993.0  "
      ]
     },
     "execution_count": 1105,
     "metadata": {},
     "output_type": "execute_result"
    }
   ],
   "source": [
    "top_ten"
   ]
  },
  {
   "cell_type": "code",
   "execution_count": 1106,
   "id": "933054ce",
   "metadata": {},
   "outputs": [],
   "source": [
    "single_user = pd.read_csv(\"/Users/ravi/python/KT4/u1.csv\")"
   ]
  },
  {
   "cell_type": "code",
   "execution_count": 1107,
   "id": "16ba1113",
   "metadata": {},
   "outputs": [
    {
     "data": {
      "text/html": [
       "<div>\n",
       "<style scoped>\n",
       "    .dataframe tbody tr th:only-of-type {\n",
       "        vertical-align: middle;\n",
       "    }\n",
       "\n",
       "    .dataframe tbody tr th {\n",
       "        vertical-align: top;\n",
       "    }\n",
       "\n",
       "    .dataframe thead th {\n",
       "        text-align: right;\n",
       "    }\n",
       "</style>\n",
       "<table border=\"1\" class=\"dataframe\">\n",
       "  <thead>\n",
       "    <tr style=\"text-align: right;\">\n",
       "      <th></th>\n",
       "      <th>timestamp</th>\n",
       "      <th>action_type</th>\n",
       "      <th>item_id</th>\n",
       "      <th>cursor_time</th>\n",
       "      <th>source</th>\n",
       "      <th>user_answer</th>\n",
       "      <th>platform</th>\n",
       "      <th>user</th>\n",
       "    </tr>\n",
       "  </thead>\n",
       "  <tbody>\n",
       "    <tr>\n",
       "      <th>0</th>\n",
       "      <td>1565096151269</td>\n",
       "      <td>enter</td>\n",
       "      <td>b3544</td>\n",
       "      <td>NaN</td>\n",
       "      <td>diagnosis</td>\n",
       "      <td>NaN</td>\n",
       "      <td>mobile</td>\n",
       "      <td>u1</td>\n",
       "    </tr>\n",
       "    <tr>\n",
       "      <th>1</th>\n",
       "      <td>1565096187972</td>\n",
       "      <td>respond</td>\n",
       "      <td>q5012</td>\n",
       "      <td>NaN</td>\n",
       "      <td>diagnosis</td>\n",
       "      <td>b</td>\n",
       "      <td>mobile</td>\n",
       "      <td>u1</td>\n",
       "    </tr>\n",
       "    <tr>\n",
       "      <th>2</th>\n",
       "      <td>1565096194904</td>\n",
       "      <td>submit</td>\n",
       "      <td>b3544</td>\n",
       "      <td>NaN</td>\n",
       "      <td>diagnosis</td>\n",
       "      <td>NaN</td>\n",
       "      <td>mobile</td>\n",
       "      <td>u1</td>\n",
       "    </tr>\n",
       "    <tr>\n",
       "      <th>3</th>\n",
       "      <td>1565096195001</td>\n",
       "      <td>enter</td>\n",
       "      <td>b3238</td>\n",
       "      <td>NaN</td>\n",
       "      <td>diagnosis</td>\n",
       "      <td>NaN</td>\n",
       "      <td>mobile</td>\n",
       "      <td>u1</td>\n",
       "    </tr>\n",
       "    <tr>\n",
       "      <th>4</th>\n",
       "      <td>1565096218682</td>\n",
       "      <td>respond</td>\n",
       "      <td>q4706</td>\n",
       "      <td>NaN</td>\n",
       "      <td>diagnosis</td>\n",
       "      <td>c</td>\n",
       "      <td>mobile</td>\n",
       "      <td>u1</td>\n",
       "    </tr>\n",
       "    <tr>\n",
       "      <th>...</th>\n",
       "      <td>...</td>\n",
       "      <td>...</td>\n",
       "      <td>...</td>\n",
       "      <td>...</td>\n",
       "      <td>...</td>\n",
       "      <td>...</td>\n",
       "      <td>...</td>\n",
       "      <td>...</td>\n",
       "    </tr>\n",
       "    <tr>\n",
       "      <th>3990</th>\n",
       "      <td>1569647530053</td>\n",
       "      <td>play_audio</td>\n",
       "      <td>b8332</td>\n",
       "      <td>0.0</td>\n",
       "      <td>my_note</td>\n",
       "      <td>NaN</td>\n",
       "      <td>mobile</td>\n",
       "      <td>u1</td>\n",
       "    </tr>\n",
       "    <tr>\n",
       "      <th>3991</th>\n",
       "      <td>1569647567859</td>\n",
       "      <td>pause_audio</td>\n",
       "      <td>b8332</td>\n",
       "      <td>34853.0</td>\n",
       "      <td>my_note</td>\n",
       "      <td>NaN</td>\n",
       "      <td>mobile</td>\n",
       "      <td>u1</td>\n",
       "    </tr>\n",
       "    <tr>\n",
       "      <th>3992</th>\n",
       "      <td>1569647618094</td>\n",
       "      <td>play_audio</td>\n",
       "      <td>b8332</td>\n",
       "      <td>1045.0</td>\n",
       "      <td>my_note</td>\n",
       "      <td>NaN</td>\n",
       "      <td>mobile</td>\n",
       "      <td>u1</td>\n",
       "    </tr>\n",
       "    <tr>\n",
       "      <th>3993</th>\n",
       "      <td>1569647652076</td>\n",
       "      <td>pause_audio</td>\n",
       "      <td>b8332</td>\n",
       "      <td>34848.0</td>\n",
       "      <td>my_note</td>\n",
       "      <td>NaN</td>\n",
       "      <td>mobile</td>\n",
       "      <td>u1</td>\n",
       "    </tr>\n",
       "    <tr>\n",
       "      <th>3994</th>\n",
       "      <td>1569647680211</td>\n",
       "      <td>quit</td>\n",
       "      <td>e8332</td>\n",
       "      <td>NaN</td>\n",
       "      <td>my_note</td>\n",
       "      <td>NaN</td>\n",
       "      <td>mobile</td>\n",
       "      <td>u1</td>\n",
       "    </tr>\n",
       "  </tbody>\n",
       "</table>\n",
       "<p>3995 rows × 8 columns</p>\n",
       "</div>"
      ],
      "text/plain": [
       "          timestamp  action_type item_id  cursor_time     source user_answer  \\\n",
       "0     1565096151269        enter   b3544          NaN  diagnosis         NaN   \n",
       "1     1565096187972      respond   q5012          NaN  diagnosis           b   \n",
       "2     1565096194904       submit   b3544          NaN  diagnosis         NaN   \n",
       "3     1565096195001        enter   b3238          NaN  diagnosis         NaN   \n",
       "4     1565096218682      respond   q4706          NaN  diagnosis           c   \n",
       "...             ...          ...     ...          ...        ...         ...   \n",
       "3990  1569647530053   play_audio   b8332          0.0    my_note         NaN   \n",
       "3991  1569647567859  pause_audio   b8332      34853.0    my_note         NaN   \n",
       "3992  1569647618094   play_audio   b8332       1045.0    my_note         NaN   \n",
       "3993  1569647652076  pause_audio   b8332      34848.0    my_note         NaN   \n",
       "3994  1569647680211         quit   e8332          NaN    my_note         NaN   \n",
       "\n",
       "     platform user  \n",
       "0      mobile   u1  \n",
       "1      mobile   u1  \n",
       "2      mobile   u1  \n",
       "3      mobile   u1  \n",
       "4      mobile   u1  \n",
       "...       ...  ...  \n",
       "3990   mobile   u1  \n",
       "3991   mobile   u1  \n",
       "3992   mobile   u1  \n",
       "3993   mobile   u1  \n",
       "3994   mobile   u1  \n",
       "\n",
       "[3995 rows x 8 columns]"
      ]
     },
     "execution_count": 1107,
     "metadata": {},
     "output_type": "execute_result"
    }
   ],
   "source": [
    "single_user"
   ]
  },
  {
   "cell_type": "code",
   "execution_count": 1108,
   "id": "97e5b0e5",
   "metadata": {},
   "outputs": [],
   "source": [
    "import datetime\n",
    "time_x =[]\n",
    "for i in range(len(single_user)):\n",
    "   time_x.append(datetime.datetime.fromtimestamp(df['timestamp'][i]/ 1000).strftime('%Y-%m-%d %H:%M:%S.%f'))\n",
    "single_user['Time'] = time_x\n",
    "    "
   ]
  },
  {
   "cell_type": "code",
   "execution_count": 1109,
   "id": "e9ae60e0",
   "metadata": {},
   "outputs": [],
   "source": [
    "\n",
    "single_user = pd.merge(single_user,questions, how='left', left_on=['item_id'], right_on=['question_id'])\n",
    "single_user.to_csv(\"u1_timed.csv\")"
   ]
  },
  {
   "cell_type": "code",
   "execution_count": 1110,
   "id": "127f4056",
   "metadata": {},
   "outputs": [
    {
     "data": {
      "text/html": [
       "<div>\n",
       "<style scoped>\n",
       "    .dataframe tbody tr th:only-of-type {\n",
       "        vertical-align: middle;\n",
       "    }\n",
       "\n",
       "    .dataframe tbody tr th {\n",
       "        vertical-align: top;\n",
       "    }\n",
       "\n",
       "    .dataframe thead th {\n",
       "        text-align: right;\n",
       "    }\n",
       "</style>\n",
       "<table border=\"1\" class=\"dataframe\">\n",
       "  <thead>\n",
       "    <tr style=\"text-align: right;\">\n",
       "      <th></th>\n",
       "      <th>timestamp</th>\n",
       "      <th>action_type</th>\n",
       "      <th>item_id</th>\n",
       "      <th>cursor_time</th>\n",
       "      <th>source</th>\n",
       "      <th>user_answer</th>\n",
       "      <th>platform</th>\n",
       "      <th>user</th>\n",
       "      <th>Time</th>\n",
       "      <th>question_id</th>\n",
       "      <th>bundle_id</th>\n",
       "      <th>explanation_id</th>\n",
       "      <th>correct_answer</th>\n",
       "      <th>part</th>\n",
       "      <th>tags</th>\n",
       "      <th>deployed_at</th>\n",
       "    </tr>\n",
       "  </thead>\n",
       "  <tbody>\n",
       "    <tr>\n",
       "      <th>0</th>\n",
       "      <td>1565096151269</td>\n",
       "      <td>enter</td>\n",
       "      <td>b3544</td>\n",
       "      <td>NaN</td>\n",
       "      <td>diagnosis</td>\n",
       "      <td>NaN</td>\n",
       "      <td>mobile</td>\n",
       "      <td>u1</td>\n",
       "      <td>2019-05-08 02:17:25.050000</td>\n",
       "      <td>NaN</td>\n",
       "      <td>NaN</td>\n",
       "      <td>NaN</td>\n",
       "      <td>NaN</td>\n",
       "      <td>NaN</td>\n",
       "      <td>NaN</td>\n",
       "      <td>NaN</td>\n",
       "    </tr>\n",
       "    <tr>\n",
       "      <th>1</th>\n",
       "      <td>1565096187972</td>\n",
       "      <td>respond</td>\n",
       "      <td>q5012</td>\n",
       "      <td>NaN</td>\n",
       "      <td>diagnosis</td>\n",
       "      <td>b</td>\n",
       "      <td>mobile</td>\n",
       "      <td>u1</td>\n",
       "      <td>2019-05-08 02:17:26.136000</td>\n",
       "      <td>q5012</td>\n",
       "      <td>b3544</td>\n",
       "      <td>e3544</td>\n",
       "      <td>c</td>\n",
       "      <td>5.0</td>\n",
       "      <td>74</td>\n",
       "      <td>1.568688e+12</td>\n",
       "    </tr>\n",
       "    <tr>\n",
       "      <th>2</th>\n",
       "      <td>1565096194904</td>\n",
       "      <td>submit</td>\n",
       "      <td>b3544</td>\n",
       "      <td>NaN</td>\n",
       "      <td>diagnosis</td>\n",
       "      <td>NaN</td>\n",
       "      <td>mobile</td>\n",
       "      <td>u1</td>\n",
       "      <td>2019-05-08 02:17:45.055000</td>\n",
       "      <td>NaN</td>\n",
       "      <td>NaN</td>\n",
       "      <td>NaN</td>\n",
       "      <td>NaN</td>\n",
       "      <td>NaN</td>\n",
       "      <td>NaN</td>\n",
       "      <td>NaN</td>\n",
       "    </tr>\n",
       "    <tr>\n",
       "      <th>3</th>\n",
       "      <td>1565096195001</td>\n",
       "      <td>enter</td>\n",
       "      <td>b3238</td>\n",
       "      <td>NaN</td>\n",
       "      <td>diagnosis</td>\n",
       "      <td>NaN</td>\n",
       "      <td>mobile</td>\n",
       "      <td>u1</td>\n",
       "      <td>2019-05-08 02:17:49.413000</td>\n",
       "      <td>NaN</td>\n",
       "      <td>NaN</td>\n",
       "      <td>NaN</td>\n",
       "      <td>NaN</td>\n",
       "      <td>NaN</td>\n",
       "      <td>NaN</td>\n",
       "      <td>NaN</td>\n",
       "    </tr>\n",
       "    <tr>\n",
       "      <th>4</th>\n",
       "      <td>1565096218682</td>\n",
       "      <td>respond</td>\n",
       "      <td>q4706</td>\n",
       "      <td>NaN</td>\n",
       "      <td>diagnosis</td>\n",
       "      <td>c</td>\n",
       "      <td>mobile</td>\n",
       "      <td>u1</td>\n",
       "      <td>2019-05-08 02:17:54.700000</td>\n",
       "      <td>q4706</td>\n",
       "      <td>b3238</td>\n",
       "      <td>e3238</td>\n",
       "      <td>c</td>\n",
       "      <td>5.0</td>\n",
       "      <td>71</td>\n",
       "      <td>1.572414e+12</td>\n",
       "    </tr>\n",
       "    <tr>\n",
       "      <th>...</th>\n",
       "      <td>...</td>\n",
       "      <td>...</td>\n",
       "      <td>...</td>\n",
       "      <td>...</td>\n",
       "      <td>...</td>\n",
       "      <td>...</td>\n",
       "      <td>...</td>\n",
       "      <td>...</td>\n",
       "      <td>...</td>\n",
       "      <td>...</td>\n",
       "      <td>...</td>\n",
       "      <td>...</td>\n",
       "      <td>...</td>\n",
       "      <td>...</td>\n",
       "      <td>...</td>\n",
       "      <td>...</td>\n",
       "    </tr>\n",
       "    <tr>\n",
       "      <th>3990</th>\n",
       "      <td>1569647530053</td>\n",
       "      <td>play_audio</td>\n",
       "      <td>b8332</td>\n",
       "      <td>0.0</td>\n",
       "      <td>my_note</td>\n",
       "      <td>NaN</td>\n",
       "      <td>mobile</td>\n",
       "      <td>u1</td>\n",
       "      <td>2019-06-01 02:06:23.807000</td>\n",
       "      <td>NaN</td>\n",
       "      <td>NaN</td>\n",
       "      <td>NaN</td>\n",
       "      <td>NaN</td>\n",
       "      <td>NaN</td>\n",
       "      <td>NaN</td>\n",
       "      <td>NaN</td>\n",
       "    </tr>\n",
       "    <tr>\n",
       "      <th>3991</th>\n",
       "      <td>1569647567859</td>\n",
       "      <td>pause_audio</td>\n",
       "      <td>b8332</td>\n",
       "      <td>34853.0</td>\n",
       "      <td>my_note</td>\n",
       "      <td>NaN</td>\n",
       "      <td>mobile</td>\n",
       "      <td>u1</td>\n",
       "      <td>2019-06-01 02:06:27.040000</td>\n",
       "      <td>NaN</td>\n",
       "      <td>NaN</td>\n",
       "      <td>NaN</td>\n",
       "      <td>NaN</td>\n",
       "      <td>NaN</td>\n",
       "      <td>NaN</td>\n",
       "      <td>NaN</td>\n",
       "    </tr>\n",
       "    <tr>\n",
       "      <th>3992</th>\n",
       "      <td>1569647618094</td>\n",
       "      <td>play_audio</td>\n",
       "      <td>b8332</td>\n",
       "      <td>1045.0</td>\n",
       "      <td>my_note</td>\n",
       "      <td>NaN</td>\n",
       "      <td>mobile</td>\n",
       "      <td>u1</td>\n",
       "      <td>2019-06-01 02:06:27.111000</td>\n",
       "      <td>NaN</td>\n",
       "      <td>NaN</td>\n",
       "      <td>NaN</td>\n",
       "      <td>NaN</td>\n",
       "      <td>NaN</td>\n",
       "      <td>NaN</td>\n",
       "      <td>NaN</td>\n",
       "    </tr>\n",
       "    <tr>\n",
       "      <th>3993</th>\n",
       "      <td>1569647652076</td>\n",
       "      <td>pause_audio</td>\n",
       "      <td>b8332</td>\n",
       "      <td>34848.0</td>\n",
       "      <td>my_note</td>\n",
       "      <td>NaN</td>\n",
       "      <td>mobile</td>\n",
       "      <td>u1</td>\n",
       "      <td>2019-06-01 02:06:28.377000</td>\n",
       "      <td>NaN</td>\n",
       "      <td>NaN</td>\n",
       "      <td>NaN</td>\n",
       "      <td>NaN</td>\n",
       "      <td>NaN</td>\n",
       "      <td>NaN</td>\n",
       "      <td>NaN</td>\n",
       "    </tr>\n",
       "    <tr>\n",
       "      <th>3994</th>\n",
       "      <td>1569647680211</td>\n",
       "      <td>quit</td>\n",
       "      <td>e8332</td>\n",
       "      <td>NaN</td>\n",
       "      <td>my_note</td>\n",
       "      <td>NaN</td>\n",
       "      <td>mobile</td>\n",
       "      <td>u1</td>\n",
       "      <td>2019-06-01 02:06:40.331000</td>\n",
       "      <td>NaN</td>\n",
       "      <td>NaN</td>\n",
       "      <td>NaN</td>\n",
       "      <td>NaN</td>\n",
       "      <td>NaN</td>\n",
       "      <td>NaN</td>\n",
       "      <td>NaN</td>\n",
       "    </tr>\n",
       "  </tbody>\n",
       "</table>\n",
       "<p>3995 rows × 16 columns</p>\n",
       "</div>"
      ],
      "text/plain": [
       "          timestamp  action_type item_id  cursor_time     source user_answer  \\\n",
       "0     1565096151269        enter   b3544          NaN  diagnosis         NaN   \n",
       "1     1565096187972      respond   q5012          NaN  diagnosis           b   \n",
       "2     1565096194904       submit   b3544          NaN  diagnosis         NaN   \n",
       "3     1565096195001        enter   b3238          NaN  diagnosis         NaN   \n",
       "4     1565096218682      respond   q4706          NaN  diagnosis           c   \n",
       "...             ...          ...     ...          ...        ...         ...   \n",
       "3990  1569647530053   play_audio   b8332          0.0    my_note         NaN   \n",
       "3991  1569647567859  pause_audio   b8332      34853.0    my_note         NaN   \n",
       "3992  1569647618094   play_audio   b8332       1045.0    my_note         NaN   \n",
       "3993  1569647652076  pause_audio   b8332      34848.0    my_note         NaN   \n",
       "3994  1569647680211         quit   e8332          NaN    my_note         NaN   \n",
       "\n",
       "     platform user                        Time question_id bundle_id  \\\n",
       "0      mobile   u1  2019-05-08 02:17:25.050000         NaN       NaN   \n",
       "1      mobile   u1  2019-05-08 02:17:26.136000       q5012     b3544   \n",
       "2      mobile   u1  2019-05-08 02:17:45.055000         NaN       NaN   \n",
       "3      mobile   u1  2019-05-08 02:17:49.413000         NaN       NaN   \n",
       "4      mobile   u1  2019-05-08 02:17:54.700000       q4706     b3238   \n",
       "...       ...  ...                         ...         ...       ...   \n",
       "3990   mobile   u1  2019-06-01 02:06:23.807000         NaN       NaN   \n",
       "3991   mobile   u1  2019-06-01 02:06:27.040000         NaN       NaN   \n",
       "3992   mobile   u1  2019-06-01 02:06:27.111000         NaN       NaN   \n",
       "3993   mobile   u1  2019-06-01 02:06:28.377000         NaN       NaN   \n",
       "3994   mobile   u1  2019-06-01 02:06:40.331000         NaN       NaN   \n",
       "\n",
       "     explanation_id correct_answer  part tags   deployed_at  \n",
       "0               NaN            NaN   NaN  NaN           NaN  \n",
       "1             e3544              c   5.0   74  1.568688e+12  \n",
       "2               NaN            NaN   NaN  NaN           NaN  \n",
       "3               NaN            NaN   NaN  NaN           NaN  \n",
       "4             e3238              c   5.0   71  1.572414e+12  \n",
       "...             ...            ...   ...  ...           ...  \n",
       "3990            NaN            NaN   NaN  NaN           NaN  \n",
       "3991            NaN            NaN   NaN  NaN           NaN  \n",
       "3992            NaN            NaN   NaN  NaN           NaN  \n",
       "3993            NaN            NaN   NaN  NaN           NaN  \n",
       "3994            NaN            NaN   NaN  NaN           NaN  \n",
       "\n",
       "[3995 rows x 16 columns]"
      ]
     },
     "execution_count": 1110,
     "metadata": {},
     "output_type": "execute_result"
    }
   ],
   "source": [
    "single_user"
   ]
  },
  {
   "cell_type": "code",
   "execution_count": 1111,
   "id": "2a4cac03",
   "metadata": {},
   "outputs": [
    {
     "data": {
      "image/png": "[encoded data removed]",
      "text/plain": [
       "<Figure size 432x288 with 1 Axes>"
      ]
     },
     "metadata": {
      "needs_background": "light"
     },
     "output_type": "display_data"
    },
    {
     "data": {
      "image/png": "[encoded data removed]",
      "text/plain": [
       "<Figure size 432x288 with 1 Axes>"
      ]
     },
     "metadata": {
      "needs_background": "light"
     },
     "output_type": "display_data"
    },
    {
     "data": {
      "image/png": "[encoded data removed]",
      "text/plain": [
       "<Figure size 432x288 with 1 Axes>"
      ]
     },
     "metadata": {
      "needs_background": "light"
     },
     "output_type": "display_data"
    },
    {
     "data": {
      "image/png": "[encoded data removed]",
      "text/plain": [
       "<Figure size 432x288 with 1 Axes>"
      ]
     },
     "metadata": {
      "needs_background": "light"
     },
     "output_type": "display_data"
    },
    {
     "data": {
      "image/png": "[encoded data removed]",
      "text/plain": [
       "<Figure size 432x288 with 1 Axes>"
      ]
     },
     "metadata": {
      "needs_background": "light"
     },
     "output_type": "display_data"
    },
    {
     "data": {
      "image/png": "[encoded data removed]",
      "text/plain": [
       "<Figure size 432x288 with 1 Axes>"
      ]
     },
     "metadata": {
      "needs_background": "light"
     },
     "output_type": "display_data"
    },
    {
     "data": {
      "image/png": "[encoded data removed]",
      "text/plain": [
       "<Figure size 432x288 with 1 Axes>"
      ]
     },
     "metadata": {
      "needs_background": "light"
     },
     "output_type": "display_data"
    },
    {
     "data": {
      "image/png": "[encoded data removed]",
      "text/plain": [
       "<Figure size 432x288 with 1 Axes>"
      ]
     },
     "metadata": {
      "needs_background": "light"
     },
     "output_type": "display_data"
    },
    {
     "data": {
      "image/png": "[encoded data removed]",
      "text/plain": [
       "<Figure size 432x288 with 1 Axes>"
      ]
     },
     "metadata": {
      "needs_background": "light"
     },
     "output_type": "display_data"
    }
   ],
   "source": [
    "for i in top_ten.columns:\n",
    "    sns.histplot(top_ten[i])\n",
    "    plt.show()"
   ]
  },
  {
   "cell_type": "code",
   "execution_count": 1112,
   "id": "b2f9ec8e",
   "metadata": {},
   "outputs": [
    {
     "data": {
      "text/plain": [
       "Index(['no_correct_ans', 'total_questions', 'no_lectures_watched',\n",
       "       'no_explinations_read', 'no_audio_listened', 'marks_percentage',\n",
       "       'sprints', 'marks percentage', 'Activity_score'],\n",
       "      dtype='object')"
      ]
     },
     "execution_count": 1112,
     "metadata": {},
     "output_type": "execute_result"
    }
   ],
   "source": [
    "top_ten.columns"
   ]
  },
  {
   "cell_type": "code",
   "execution_count": 1113,
   "id": "8185aaf4",
   "metadata": {},
   "outputs": [],
   "source": [
    "import matplotlib.pyplot as plt\n",
    "import seaborn as sns\n"
   ]
  },
  {
   "cell_type": "code",
   "execution_count": 1114,
   "id": "e0121b1d",
   "metadata": {},
   "outputs": [
    {
     "data": {
      "image/png": "[encoded data removed]",
      "text/plain": [
       "<Figure size 720x576 with 1 Axes>"
      ]
     },
     "metadata": {
      "needs_background": "light"
     },
     "output_type": "display_data"
    }
   ],
   "source": [
    "plt.figure(figsize = (10,8))\n",
    "sns.histplot(questionsresult[['no_times_practised','no_times_answered_correctly']])\n",
    "plt.title('Question Metrics')\n",
    "plt.xlabel('Question ID')\n",
    "plt.show()"
   ]
  },
  {
   "cell_type": "code",
   "execution_count": null,
   "id": "ac33566d",
   "metadata": {},
   "outputs": [],
   "source": []
  }
 ],
 "metadata": {
  "kernelspec": {
   "display_name": "Python 3 (ipykernel)",
   "language": "python",
   "name": "python3"
  },
  "language_info": {
   "codemirror_mode": {
    "name": "ipython",
    "version": 3
   },
   "file_extension": ".py",
   "mimetype": "text/x-python",
   "name": "python",
   "nbconvert_exporter": "python",
   "pygments_lexer": "ipython3",
   "version": "3.9.7"
  }
 },
 "nbformat": 4,
 "nbformat_minor": 5
}
